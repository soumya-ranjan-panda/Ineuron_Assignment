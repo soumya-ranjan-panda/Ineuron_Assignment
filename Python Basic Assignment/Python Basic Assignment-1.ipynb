{
 "cells": [
  {
   "cell_type": "markdown",
   "metadata": {},
   "source": [
    "<h3>Q1</h3>\n",
    "<b>In the below elements which of them are values or an expression? eg:- values can be\n",
    "integer or string and expressions will be mathematical operators.</b>\n",
    "\n",
    "1. <b>*</b>\n",
    "2. <b>\"hello\"</b>\n",
    "3. <b>-87.8</b>\n",
    "4. <b>-</b>\n",
    "5. <b>/</b>\n",
    "6. <b>+</b>\n",
    "7. <b>6</b>"
   ]
  },
  {
   "cell_type": "code",
   "execution_count": null,
   "metadata": {},
   "outputs": [],
   "source": [
    "1. *       --> is a Expression \n",
    "2. \"Hello\" --> is a Value \n",
    "3. -87.8   --> is a Value \n",
    "4. -       --> is a Expression\n",
    "5. /       --> is a Expression\n",
    "6. +       --> is a Expression \n",
    "7. 6       --> is a Value \n"
   ]
  },
  {
   "cell_type": "markdown",
   "metadata": {},
   "source": [
    "---"
   ]
  },
  {
   "cell_type": "markdown",
   "metadata": {},
   "source": [
    "<h3>Q2</h3>\n",
    "<b>What is the difference between string and variable?</b>"
   ]
  },
  {
   "cell_type": "code",
   "execution_count": null,
   "metadata": {},
   "outputs": [],
   "source": [
    "String:It is a DataType which is used to store only String Values\n",
    "For Example: \"Soumya\"\n",
    "\n",
    "Varibale:It is a kind of storage of information/values.\n",
    "It can store data of any kind like int floatcomplex str tuples list and many more.bcz in Python for variable declar data type is not required.\n",
    "For Example a = 345\n",
    "    Here a is storing an integer value\n"
   ]
  },
  {
   "cell_type": "markdown",
   "metadata": {},
   "source": [
    "<h3>Q3</h3>\n",
    "<b>Describe three different data types.</b>"
   ]
  },
  {
   "cell_type": "code",
   "execution_count": null,
   "metadata": {},
   "outputs": [],
   "source": [
    "\n",
    "Some of the build-in Datatypes are\n",
    "1. str   --> For storing String Values\n",
    "2. int   --> For storing Integer Values\n",
    "3. float --> For storing Float Values\n",
    "4. bool  --> FOr storing Boolean Values \n",
    "\n"
   ]
  },
  {
   "cell_type": "markdown",
   "metadata": {},
   "source": [
    "<h3>Q4</h3>\n",
    "<b>What is an expression made up of? What do all expressions do?</b>"
   ]
  },
  {
   "cell_type": "code",
   "execution_count": null,
   "metadata": {},
   "outputs": [],
   "source": [
    "An expression is a construct made up of variables, operators, and method invocations, which are constructed according to the syntax of the language that evaluates to a single value."
   ]
  },
  {
   "cell_type": "markdown",
   "metadata": {},
   "source": [
    "---"
   ]
  },
  {
   "cell_type": "markdown",
   "metadata": {},
   "source": [
    "<h3>Q5</h3>\n",
    "<b>This assignment statements, like spam = 10. What is the difference between an expression and a statement? </b>"
   ]
  },
  {
   "cell_type": "code",
   "execution_count": null,
   "metadata": {},
   "outputs": [],
   "source": [
    "Statement is something that expresses element/object/variable.\n",
    "Print and Assignment Statement can be called as a Statement that represent an action\n",
    "Ex1:\n",
    "    print('Abc') O/P:Abc\n",
    "    \n",
    "Also, spam = 10 is an example of Statement as value 10 is been assigned to variable \"spam\"\n",
    "\n",
    "---------------------------------------------------------------------------------------------------\n",
    "\n",
    "Expression is a combination of Variables, Operators and Methods to produce a result Value.\n",
    "Expression can also be reduced to a single value.\n",
    "Ex1: (1*2)+3 Op:5"
   ]
  },
  {
   "cell_type": "markdown",
   "metadata": {},
   "source": [
    "---"
   ]
  },
  {
   "cell_type": "markdown",
   "metadata": {},
   "source": [
    "<h3>Q6</h3>\n",
    "<b>After running the following code, what does the variable bacon contain?</b><br>\n",
    "bacon = 22<br>\n",
    "bacon + 1"
   ]
  },
  {
   "cell_type": "code",
   "execution_count": 1,
   "metadata": {},
   "outputs": [],
   "source": [
    "bacon = 22"
   ]
  },
  {
   "cell_type": "markdown",
   "metadata": {},
   "source": [
    "<h3>Q7</h3>\n",
    "<b>What should the values of the following two terms be?</b><br>\n",
    "'spam' + 'spamspam'<br>\n",
    "'spam' * 3"
   ]
  },
  {
   "cell_type": "code",
   "execution_count": 4,
   "metadata": {},
   "outputs": [
    {
     "data": {
      "text/plain": [
       "'spamspamspam'"
      ]
     },
     "execution_count": 4,
     "metadata": {},
     "output_type": "execute_result"
    }
   ],
   "source": [
    "'spam' + 'spamspam'"
   ]
  },
  {
   "cell_type": "code",
   "execution_count": 5,
   "metadata": {},
   "outputs": [
    {
     "data": {
      "text/plain": [
       "'spamspamspam'"
      ]
     },
     "execution_count": 5,
     "metadata": {},
     "output_type": "execute_result"
    }
   ],
   "source": [
    "'spam'*3"
   ]
  },
  {
   "cell_type": "markdown",
   "metadata": {},
   "source": [
    "<h3>Q8</h3>\n",
    "<b>Why is eggs a valid variable name while 100 is invalid?"
   ]
  },
  {
   "cell_type": "code",
   "execution_count": null,
   "metadata": {},
   "outputs": [],
   "source": [
    "According python variable naming convention \n",
    ".Variable number must start with letter or underscore.\n",
    ".A variable name can’t start with Numerical digit .\n",
    ".So eggs=Valid and 100=Invalid\n"
   ]
  },
  {
   "cell_type": "markdown",
   "metadata": {},
   "source": [
    "---"
   ]
  },
  {
   "cell_type": "markdown",
   "metadata": {},
   "source": [
    "<h3>Q9</h3>\n",
    "<b>What three functions can be used to get the integer, floating-point number, or string version of a value?"
   ]
  },
  {
   "cell_type": "code",
   "execution_count": null,
   "metadata": {},
   "outputs": [],
   "source": [
    "\n",
    "int()\n",
    "float()\n",
    "str()\n"
   ]
  },
  {
   "cell_type": "markdown",
   "metadata": {},
   "source": [
    "<h3>Q10</h3>\n",
    "<b>Why does this expression cause an error? How can you fix it?</b><br>\n",
    "'I have eaten ' + 99 + 'burritos.'"
   ]
  },
  {
   "cell_type": "code",
   "execution_count": 7,
   "metadata": {},
   "outputs": [
    {
     "ename": "TypeError",
     "evalue": "can only concatenate str (not \"int\") to str",
     "output_type": "error",
     "traceback": [
      "\u001b[1;31m---------------------------------------------------------------------------\u001b[0m",
      "\u001b[1;31mTypeError\u001b[0m                                 Traceback (most recent call last)",
      "\u001b[1;32m<ipython-input-7-d24137131a5c>\u001b[0m in \u001b[0;36m<module>\u001b[1;34m\u001b[0m\n\u001b[1;32m----> 1\u001b[1;33m \u001b[1;34m'I have eaten '\u001b[0m \u001b[1;33m+\u001b[0m \u001b[1;36m99\u001b[0m \u001b[1;33m+\u001b[0m \u001b[1;34m' burritos.'\u001b[0m\u001b[1;33m\u001b[0m\u001b[1;33m\u001b[0m\u001b[0m\n\u001b[0m",
      "\u001b[1;31mTypeError\u001b[0m: can only concatenate str (not \"int\") to str"
     ]
    }
   ],
   "source": [
    "'I have eaten ' + 99 + ' burritos.'"
   ]
  },
  {
   "cell_type": "code",
   "execution_count": null,
   "metadata": {},
   "outputs": [],
   "source": [
    "Ans: We can’t Concatenate with str data type with int data type.\n",
    "Fix version 1: 'I have eaten ' + str(99) + ' burritos.'\n",
    "Fix version 2: 'I have eaten ' + \"99\" + ' burritos.'\n"
   ]
  }
 ],
 "metadata": {
  "kernelspec": {
   "display_name": "Python 3",
   "language": "python",
   "name": "python3"
  },
  "language_info": {
   "codemirror_mode": {
    "name": "ipython",
    "version": 3
   },
   "file_extension": ".py",
   "mimetype": "text/x-python",
   "name": "python",
   "nbconvert_exporter": "python",
   "pygments_lexer": "ipython3",
   "version": "3.8.8"
  }
 },
 "nbformat": 4,
 "nbformat_minor": 4
}
