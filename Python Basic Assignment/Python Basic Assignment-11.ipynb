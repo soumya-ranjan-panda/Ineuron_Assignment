{
 "cells": [
  {
   "cell_type": "markdown",
   "metadata": {},
   "source": [
    "<h3>Q1</h3>\n",
    "<b>Create an assert statement that throws an AssertionError if the variable spam is a negative integer."
   ]
  },
  {
   "cell_type": "markdown",
   "metadata": {},
   "source": [
    "<pre>\n",
    "The <b>assert</b> command checks whether the statement is true oor false\n",
    "If the condition is <b>True</b>; it will continue // execute the following statement\n",
    "If the condition is <b>False</b>; it will give an AssertionError message"
   ]
  },
  {
   "cell_type": "code",
   "execution_count": 1,
   "metadata": {},
   "outputs": [
    {
     "name": "stdout",
     "output_type": "stream",
     "text": [
      "Enter the positive number :: 54\n"
     ]
    }
   ],
   "source": [
    "# Method 1 for taking user input\n",
    "spam = int(input('Enter the positive number :: '))\n",
    "assert spam > 0"
   ]
  },
  {
   "cell_type": "code",
   "execution_count": 2,
   "metadata": {},
   "outputs": [
    {
     "name": "stdout",
     "output_type": "stream",
     "text": [
      "Enter the number :: h\n",
      "'h' is not an integer.\n",
      "Enter the number :: 2\n"
     ]
    }
   ],
   "source": [
    "# Method 2 for taking user input\n",
    "import pyinputplus as pyip\n",
    "\n",
    "spam = pyip.inputInt('Enter the number :: ')\n",
    "assert spam > 0 "
   ]
  },
  {
   "cell_type": "markdown",
   "metadata": {},
   "source": [
    "<h3>Q2</h3>\n",
    "<b>Write an assert statement that triggers an AssertionError if the variables eggs and bacon contain\n",
    "strings that are the same as each other, even if their cases are different (that is, 'hello' and 'hello' are considered the same, and 'goodbye' and 'GOODbye' are also considered the same)."
   ]
  },
  {
   "cell_type": "code",
   "execution_count": 3,
   "metadata": {},
   "outputs": [
    {
     "name": "stdout",
     "output_type": "stream",
     "text": [
      "Strings the same\n"
     ]
    }
   ],
   "source": [
    "eggs = 'goodbye'\n",
    "bacon = 'GOODbye'\n",
    "# eggs = 'Abc'\n",
    "\n",
    "while True:\n",
    "    assert eggs.lower() == bacon.lower() or eggs.upper() == bacon.upper(), \"Strings are not same\" \n",
    "    # This message is printed when the condition is False\n",
    "    # Called as Custon Error message\n",
    "    \n",
    "    print('Strings the same')\n",
    "    break"
   ]
  },
  {
   "cell_type": "markdown",
   "metadata": {},
   "source": [
    "<h3>Q3</h3>\n",
    "<b>Create an assert statement that throws an AssertionError every time."
   ]
  },
  {
   "cell_type": "markdown",
   "metadata": {},
   "source": [
    "<pre>\n",
    "As assert statement checks the condition stmt is True or False\n",
    "So if I give the condition False; it will always give an error"
   ]
  },
  {
   "cell_type": "code",
   "execution_count": 4,
   "metadata": {},
   "outputs": [
    {
     "ename": "AssertionError",
     "evalue": "False Condition",
     "output_type": "error",
     "traceback": [
      "\u001b[1;31m---------------------------------------------------------------------------\u001b[0m",
      "\u001b[1;31mAssertionError\u001b[0m                            Traceback (most recent call last)",
      "\u001b[1;32m<ipython-input-4-45b1903a313d>\u001b[0m in \u001b[0;36m<module>\u001b[1;34m\u001b[0m\n\u001b[1;32m----> 1\u001b[1;33m \u001b[1;32massert\u001b[0m \u001b[1;32mFalse\u001b[0m\u001b[1;33m,\u001b[0m \u001b[1;34m\"False Condition\"\u001b[0m\u001b[1;33m\u001b[0m\u001b[1;33m\u001b[0m\u001b[0m\n\u001b[0m",
      "\u001b[1;31mAssertionError\u001b[0m: False Condition"
     ]
    }
   ],
   "source": [
    "assert False, \"False Condition\""
   ]
  },
  {
   "cell_type": "markdown",
   "metadata": {},
   "source": [
    "<h3>Q4</h3>\n",
    "<b>What are the two lines that must be present in your software in order to call logging.debug()?"
   ]
  },
  {
   "cell_type": "markdown",
   "metadata": {},
   "source": [
    "<pre>\n",
    "1. Importing the <b>logging</b> module\n",
    "2. logging.basicConfig() is second statement required before calling the logging.debug() command"
   ]
  },
  {
   "cell_type": "code",
   "execution_count": 5,
   "metadata": {},
   "outputs": [
    {
     "data": {
      "text/plain": [
       "'\\nFormat contain:\\n    asctime --> Current time \\n    levelname --> type of logging\\n    message --> the msg you want to display\\n'"
      ]
     },
     "execution_count": 5,
     "metadata": {},
     "output_type": "execute_result"
    }
   ],
   "source": [
    "import logging as log\n",
    "\n",
    "log.basicConfig(level=log.DEBUG, format= '%(asctime)s - %(levelname)s - %(message)s')\n",
    "\n",
    "'''\n",
    "Format contain:\n",
    "    asctime --> Current time \n",
    "    levelname --> type of logging\n",
    "    message --> the msg you want to display\n",
    "'''"
   ]
  },
  {
   "cell_type": "markdown",
   "metadata": {},
   "source": [
    "<h3>Q5</h3>\n",
    "<b>What are the two lines that your program must have in order to have logging.debug() send a logging message to a file named programLog.txt?"
   ]
  },
  {
   "cell_type": "code",
   "execution_count": 5,
   "metadata": {},
   "outputs": [],
   "source": [
    "# Module Import\n",
    "import logging as log\n",
    "\n",
    "# Configuration\n",
    "log.basicConfig(filename='programLog.log',\\\n",
    "                level=log.DEBUG, \\\n",
    "                format= '%(asctime)s - %(levelname)s - %(message)s')"
   ]
  },
  {
   "cell_type": "code",
   "execution_count": 6,
   "metadata": {},
   "outputs": [],
   "source": [
    "log.info('This is a Program Log message for DEBUGGING')"
   ]
  },
  {
   "cell_type": "code",
   "execution_count": 7,
   "metadata": {},
   "outputs": [
    {
     "data": {
      "text/plain": [
       "['2022-01-11 05:11:10,446 - INFO - This is a Program Log message for DEBUGGING',\n",
       " '2022-01-11 05:11:18,910 - INFO - This is a Program Log message for DEBUGGING']"
      ]
     },
     "execution_count": 7,
     "metadata": {},
     "output_type": "execute_result"
    }
   ],
   "source": [
    "file = open('programLog.log')\n",
    "file.read().splitlines()"
   ]
  },
  {
   "cell_type": "markdown",
   "metadata": {},
   "source": [
    "<h3>Q6</h3>\n",
    "<b>What are the five levels of logging?"
   ]
  },
  {
   "cell_type": "markdown",
   "metadata": {},
   "source": [
    "<pre>\n",
    "Five Levels of Logging<b>\n",
    "                            1. DEBUG\n",
    "                            2. INFO\n",
    "                            3. WARNING\n",
    "                            4. ERROR\n",
    "                            5. CRITICAL"
   ]
  },
  {
   "cell_type": "markdown",
   "metadata": {},
   "source": [
    "<h3>Q7</h3>\n",
    "<b>What line of code would you add to your software to disable all logging messages?"
   ]
  },
  {
   "cell_type": "markdown",
   "metadata": {},
   "source": [
    "<pre>\n",
    "<b>logging.disable(level)</b> :: will disable all the logging message severity 'level' and below.\n",
    "        set level = lg.CRITICAL\n",
    "        level = lg.CRITICAL has the highest priority of logging;\n",
    "                    so all the other levels will automatically be disabled"
   ]
  },
  {
   "cell_type": "code",
   "execution_count": 9,
   "metadata": {},
   "outputs": [],
   "source": [
    "import logging as lg\n",
    "\n",
    "lg.disable(level = lg.CRITICAL)"
   ]
  },
  {
   "cell_type": "markdown",
   "metadata": {},
   "source": [
    "<h3>Q8</h3>\n",
    "<b>Why is using logging messages better than using print() to display the same message?"
   ]
  },
  {
   "cell_type": "markdown",
   "metadata": {},
   "source": [
    "<pre><b>\n",
    "    1. Logging can define what kind of information we want to include into our logging system.\n",
    "    2. Using Logging; we can also log the severity level of the data.\n",
    "    3. Timestamp can also be logged using logging\n",
    "</b>\n",
    "All this cannot be done using the print() function"
   ]
  },
  {
   "cell_type": "markdown",
   "metadata": {},
   "source": [
    "<h3>Q9</h3>\n",
    "<b>What are the differences between the Step Over, Step In, and Step Out buttons in the debugger?"
   ]
  },
  {
   "cell_type": "markdown",
   "metadata": {},
   "source": [
    "<pre>\n",
    "<b>The Step Over</b> :will execute the function call without stepping into the function.\n",
    "    The fucntion will be executing but the result returned without debugging each line.\n",
    "    \n",
    "<b>The Step In</b> : If the debugger does not encounter the function it will acts as a Step Over\n",
    "    But if the debugger encounters the function it will enter the function and execute the function body line by line.\n",
    "    \n",
    "<b>The Step Out</b> : this will quickly execute the rest of the code within the function and returns to the line where the function was called"
   ]
  },
  {
   "cell_type": "markdown",
   "metadata": {},
   "source": [
    "---"
   ]
  },
  {
   "cell_type": "markdown",
   "metadata": {},
   "source": [
    "<h3>Q10</h3>\n",
    "<b>After you click Continue, when will the debugger stop ?"
   ]
  },
  {
   "cell_type": "markdown",
   "metadata": {},
   "source": [
    "<pre>\n",
    "It will stop at the next breakpoint.\n",
    "If the breakpoint is not present within the code; it will execute the whole program."
   ]
  },
  {
   "cell_type": "markdown",
   "metadata": {},
   "source": [
    "<h3>Q11</h3>\n",
    "<b>What is the concept of a breakpoint?"
   ]
  },
  {
   "cell_type": "markdown",
   "metadata": {},
   "source": [
    "<pre><b>Breakpoint</b> is used to interrupt the running program immediately before the implementation of specified instruction."
   ]
  },
  {
   "cell_type": "markdown",
   "metadata": {},
   "source": [
    "---"
   ]
  }
 ],
 "metadata": {
  "kernelspec": {
   "display_name": "Python 3",
   "language": "python",
   "name": "python3"
  },
  "language_info": {
   "codemirror_mode": {
    "name": "ipython",
    "version": 3
   },
   "file_extension": ".py",
   "mimetype": "text/x-python",
   "name": "python",
   "nbconvert_exporter": "python",
   "pygments_lexer": "ipython3",
   "version": "3.8.8"
  }
 },
 "nbformat": 4,
 "nbformat_minor": 4
}
