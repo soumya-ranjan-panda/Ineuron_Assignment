{
 "cells": [
  {
   "cell_type": "markdown",
   "metadata": {},
   "source": [
    "<h3>Q1</h3>\n",
    "<b>What are the two values of the Boolean data type? How do you write them?"
   ]
  },
  {
   "cell_type": "code",
   "execution_count": null,
   "metadata": {},
   "outputs": [],
   "source": [
    "ANS:True,False"
   ]
  },
  {
   "cell_type": "markdown",
   "metadata": {},
   "source": [
    "<h3>Q2</h3>\n",
    "<b>What are the three different types of Boolean operators?"
   ]
  },
  {
   "cell_type": "code",
   "execution_count": null,
   "metadata": {},
   "outputs": [],
   "source": [
    "Basically there are 3 Boolean Operators:and,or,not"
   ]
  },
  {
   "cell_type": "markdown",
   "metadata": {},
   "source": [
    "<h3>Q3</h3>\n",
    "<b>Make a list of each Boolean operator's truth tables (i.e. every possible combination of Boolean values for the operator and what it evaluate )."
   ]
  },
  {
   "cell_type": "code",
   "execution_count": 1,
   "metadata": {},
   "outputs": [
    {
     "name": "stdout",
     "output_type": "stream",
     "text": [
      "AND OPERATION\n",
      " A  B O/P\n",
      "[0, 0, 0]\n",
      "[0, 1, 0]\n",
      "[1, 0, 0]\n",
      "[1, 1, 1]\n",
      "\n",
      "OR OPERATION\n",
      " A  B O/P\n",
      "[0, 0, 0]\n",
      "[0, 1, 1]\n",
      "[1, 0, 1]\n",
      "[1, 1, 1]\n",
      "\n",
      "NOT OPERATION\n",
      " A O/P\n",
      "[0, 1]\n",
      "[1, 0]\n"
     ]
    }
   ],
   "source": [
    "and_list = [[0,0,0],[0,1,0],[1,0,0], [1,1,1]]\n",
    "print(\"AND OPERATION\\n A  B O/P\")\n",
    "for i in and_list:\n",
    "            print(i)\n",
    "\n",
    "or_list = [[0,0,0],[0,1,1],[1,0,1], [1,1,1]]\n",
    "print(\"\\nOR OPERATION\\n A  B O/P\")\n",
    "for i in or_list:\n",
    "            print(i)\n",
    "\n",
    "or_list = [[0,1],[1,0]]\n",
    "print(\"\\nNOT OPERATION\\n A O/P\")\n",
    "for i in or_list:\n",
    "            print(i)"
   ]
  },
  {
   "cell_type": "markdown",
   "metadata": {},
   "source": [
    "---"
   ]
  },
  {
   "cell_type": "markdown",
   "metadata": {},
   "source": [
    "<h3>Q4</h3>\n",
    "<b>What are the values of the following expressions?</b><br>\n",
    "    <pre>\n",
    "    - (5 > 4) and (3 == 5) <br>\n",
    "    - not (5 > 4)<br>\n",
    "    - (5 > 4) or (3 == 5)<br>\n",
    "    - not ((5 > 4) or (3 == 5))<br>\n",
    "    - (True and True) and (True == False)<br>\n",
    "    - (not False) or (not True)"
   ]
  },
  {
   "cell_type": "markdown",
   "metadata": {},
   "source": [
    "(5 > 4) and (3 == 5) --> False\n",
    "not (5 > 4) --> False\n",
    "(5 > 4) or (3 == 5) --> True\n",
    "not ((5 > 4) or (3 == 5)) --> False\n",
    "(True and True) and (True == False) --> False\n",
    "(not False) or (not True) --> True\n"
   ]
  },
  {
   "cell_type": "markdown",
   "metadata": {},
   "source": [
    "<h3>Q5</h3>\n",
    "<b>What are the six comparison operators?"
   ]
  },
  {
   "cell_type": "code",
   "execution_count": null,
   "metadata": {},
   "outputs": [],
   "source": [
    "\n",
    "Comparision Operators are:\n",
    "    1. ==  --> Equal to Operator\n",
    "    2. !=  --> Not Equal to Operator\n",
    "    \n",
    "    3. < --> Less than Operator\n",
    "    4. > --> Greater than Operator\n",
    "    \n",
    "    5. <= --> Less than or Equal to Operator\n",
    "    6. >= --> Greater than or Equal to Operator"
   ]
  },
  {
   "cell_type": "markdown",
   "metadata": {},
   "source": [
    "---"
   ]
  },
  {
   "cell_type": "markdown",
   "metadata": {},
   "source": [
    "<h3>Q6</h3>\n",
    "<b>How do you tell the difference between the equal to and assignment operators?<br>Describe a condition and when you would use one"
   ]
  },
  {
   "cell_type": "code",
   "execution_count": null,
   "metadata": {},
   "outputs": [],
   "source": [
    ".Equal operators is a comparison operators it compare between  2  value and provide the output accordingly in True or False form.\n",
    ".Assignment operators assign the value into the respective variable.\n",
    ".Ex:5==3 op:False(Equal operators)\n",
    ".Value=2 (Equal operators)\n"
   ]
  },
  {
   "cell_type": "markdown",
   "metadata": {},
   "source": [
    "---"
   ]
  },
  {
   "cell_type": "markdown",
   "metadata": {},
   "source": [
    "# Q7.\n",
    "Identify the three blocks in this code:</b>\n",
    "\n",
    "spam = 0 \n",
    "\n",
    "if spam == 10:\n",
    "    print(\"eggs\")  \n",
    "\n",
    "if spam > 5:\n",
    "    print(\"bacon\")\n",
    "else:\n",
    "    print(\"ham\")\n",
    "    print(\"spam\")\n",
    "    print(\"spam\")\n",
    "    \n"
   ]
  },
  {
   "cell_type": "markdown",
   "metadata": {},
   "source": [
    "<pre>\n",
    "<b>FIRST BLOCK OF CODE</b>\n",
    "<b>Assignment Operation</b>\n",
    "spam = 0 \n",
    "\n",
    "<b>SECOND BLOCK OF CODE</b>\n",
    "<b>If Condition</b>\n",
    "if spam == 10:\n",
    "    print(\"eggs\")  \n",
    "\n",
    "<b>THIRD BLOCK OF CODE</b>\n",
    "<b>Condition Checking with IF-ELSE Block</b>\n",
    "if spam > 5:\n",
    "    print(\"bacon\")\n",
    "else:\n",
    "    print(\"ham\")\n",
    "    print(\"spam\")\n",
    "    print(\"spam\")"
   ]
  },
  {
   "cell_type": "markdown",
   "metadata": {},
   "source": [
    "---"
   ]
  },
  {
   "cell_type": "markdown",
   "metadata": {},
   "source": [
    "<h3>Q8</h3>\n",
    "<b>Write code that </b>\n",
    "    <pre>\n",
    "    prints Hello if 1 is stored in spam, <br>\n",
    "    prints Howdy if 2 is stored in spam, <br>\n",
    "    and prints Greetings! if anything else is stored in spam."
   ]
  },
  {
   "cell_type": "code",
   "execution_count": 3,
   "metadata": {},
   "outputs": [
    {
     "name": "stdout",
     "output_type": "stream",
     "text": [
      "Greetings!!!\n"
     ]
    }
   ],
   "source": [
    "spam = 0\n",
    "\n",
    "if spam ==1:\n",
    "    print(\"Hello\")\n",
    "elif spam ==2:\n",
    "    print('Howdy')\n",
    "else:\n",
    "    print('Greetings!!!')"
   ]
  },
  {
   "cell_type": "markdown",
   "metadata": {},
   "source": [
    "---"
   ]
  },
  {
   "cell_type": "markdown",
   "metadata": {},
   "source": [
    "<h3>Q9</h3>\n",
    "<b>If your programme is stuck in an endless loop, what keys you’ll press?"
   ]
  },
  {
   "cell_type": "code",
   "execution_count": null,
   "metadata": {},
   "outputs": [],
   "source": [
    "Press ::CTRL + C  key command to exit from the endless loop"
   ]
  },
  {
   "cell_type": "markdown",
   "metadata": {},
   "source": [
    "---"
   ]
  },
  {
   "cell_type": "markdown",
   "metadata": {},
   "source": [
    "<h3>Q10</h3>\n",
    "<b>How can you tell the difference between break and continue?"
   ]
  },
  {
   "cell_type": "code",
   "execution_count": null,
   "metadata": {},
   "outputs": [],
   "source": [
    "\n",
    "Break: statement breaks or leave the execution of the conditional loop execution.\n",
    "    \n",
    "Continue:\n",
    "    When continue comes in the conditional loop, it leaves the current iteration values for execution BUT continues from the next iterable object\n",
    "   "
   ]
  },
  {
   "cell_type": "markdown",
   "metadata": {},
   "source": [
    "<h3>Q11</h3>\n",
    "<b>In a for loop, what is the difference between range(10), range(0, 10), and range(0, 10, 1)?¶"
   ]
  },
  {
   "cell_type": "code",
   "execution_count": null,
   "metadata": {},
   "outputs": [],
   "source": [
    ".range(10):index 0 to 9(Starting index=0 by default, end index=9) \n",
    ".range(0,10):index 0 to 9 (Starting index=0 , end index=9)\n",
    ".range(0,10,1):index 0 ,2,4,6,8((Starting index=0 , end index=9,steps=1)\n"
   ]
  },
  {
   "cell_type": "markdown",
   "metadata": {},
   "source": [
    "<h3>Q12</h3>\n",
    "<b> Write a short program that prints the numbers 1 to 10 using a for loop.<br>\n",
    "    Then write an equivalent program that prints the numbers 1 to 10 using a while loop"
   ]
  },
  {
   "cell_type": "code",
   "execution_count": 7,
   "metadata": {},
   "outputs": [
    {
     "name": "stdout",
     "output_type": "stream",
     "text": [
      "USING FOR LOOP\n",
      "0\n",
      "1\n",
      "2\n",
      "3\n",
      "4\n",
      "5\n",
      "6\n",
      "7\n",
      "8\n",
      "9\n",
      "\n",
      "USING WHILE LOOP\n",
      "0\n",
      "1\n",
      "2\n",
      "3\n",
      "4\n",
      "5\n",
      "6\n",
      "7\n",
      "8\n",
      "9\n"
     ]
    }
   ],
   "source": [
    "print('USING FOR LOOP')\n",
    "for i in range(10):\n",
    "    print(i)\n",
    "\n",
    "print('\\nUSING WHILE LOOP')\n",
    "a=0\n",
    "while a < 10:\n",
    "    print(a)\n",
    "    a=a+1"
   ]
  },
  {
   "cell_type": "markdown",
   "metadata": {},
   "source": [
    "<h3>Q13</h3>\n",
    "<b>If you had a function named bacon() inside a module named spam, how would you call it after importing spam?"
   ]
  },
  {
   "cell_type": "code",
   "execution_count": null,
   "metadata": {},
   "outputs": [],
   "source": [
    "\n",
    "import spam\n",
    "a = spam.bacon()"
   ]
  }
 ],
 "metadata": {
  "kernelspec": {
   "display_name": "Python 3",
   "language": "python",
   "name": "python3"
  },
  "language_info": {
   "codemirror_mode": {
    "name": "ipython",
    "version": 3
   },
   "file_extension": ".py",
   "mimetype": "text/x-python",
   "name": "python",
   "nbconvert_exporter": "python",
   "pygments_lexer": "ipython3",
   "version": "3.8.8"
  }
 },
 "nbformat": 4,
 "nbformat_minor": 4
}
