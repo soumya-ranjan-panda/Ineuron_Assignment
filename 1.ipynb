{
 "cells": [
  {
   "cell_type": "markdown",
   "id": "95c3ea26",
   "metadata": {},
   "source": [
    "# 1.\tWrite a Python program to print \"Hello Python\"?"
   ]
  },
  {
   "cell_type": "code",
   "execution_count": 1,
   "id": "f76e627a",
   "metadata": {},
   "outputs": [
    {
     "name": "stdout",
     "output_type": "stream",
     "text": [
      "Hello Python\n"
     ]
    }
   ],
   "source": [
    "print('Hello Python')"
   ]
  },
  {
   "cell_type": "markdown",
   "id": "b425e309",
   "metadata": {},
   "source": [
    "# 2.\tWrite a Python program to do arithmetical operations addition and division.?"
   ]
  },
  {
   "cell_type": "code",
   "execution_count": 2,
   "id": "6581f6ac",
   "metadata": {},
   "outputs": [
    {
     "name": "stdout",
     "output_type": "stream",
     "text": [
      "enter  a number3\n",
      "enter  a number4\n",
      "addition of given two number7\n",
      "Division of given two number0.75\n"
     ]
    }
   ],
   "source": [
    "def Arithmatic(a,b):\n",
    "    print('addition of given two number'+str(a+b))\n",
    "    print('Division of given two number'+str(a/b))\n",
    "a=int(input(\"enter  a number\"))\n",
    "b=int(input(\"enter  a number\"))\n",
    "Arithmatic(a,b)\n"
   ]
  },
  {
   "cell_type": "markdown",
   "id": "abf165f3",
   "metadata": {},
   "source": [
    "# 3.\tWrite a Python program to find the area of a triangle?"
   ]
  },
  {
   "cell_type": "code",
   "execution_count": 4,
   "id": "52a12381",
   "metadata": {},
   "outputs": [
    {
     "name": "stdout",
     "output_type": "stream",
     "text": [
      "enter  a Base value4\n",
      "enter  a height value3\n",
      "Area of a triangle6.0\n"
     ]
    }
   ],
   "source": [
    "def Area(a,b):\n",
    "    print('Area of a triangle'+str((a*b)/2))\n",
    "a=int(input(\"enter  a Base value\"))\n",
    "b=int(input(\"enter  a height value\"))\n",
    "Area(a,b)"
   ]
  },
  {
   "cell_type": "markdown",
   "id": "7f982a41",
   "metadata": {},
   "source": [
    "# 4.\tWrite a Python program to swap two variables?"
   ]
  },
  {
   "cell_type": "code",
   "execution_count": 5,
   "id": "126c2590",
   "metadata": {},
   "outputs": [
    {
     "name": "stdout",
     "output_type": "stream",
     "text": [
      "enter  a first value6\n",
      "enter  a seond value8\n",
      ":::::Before Swap::::::::\n",
      "First value 6\n",
      "second value 8\n",
      "::::::::after Swap:::::::::\n",
      "First value 8\n",
      "second value 6\n"
     ]
    }
   ],
   "source": [
    "def Swap(a,b):\n",
    "    print(\":::::Before Swap::::::::\")\n",
    "    print('First value '+str(a))\n",
    "    print('second value '+str(b))\n",
    "    temp=a\n",
    "    a=b\n",
    "    b=temp\n",
    "    print(\"::::::::after Swap:::::::::\")\n",
    "    print('First value '+str(a))\n",
    "    print('second value '+str(b))\n",
    "a=int(input(\"enter  a first value\"))\n",
    "b=int(input(\"enter  a seond value\"))\n",
    "Swap(a,b)"
   ]
  },
  {
   "cell_type": "markdown",
   "id": "059e6b7c",
   "metadata": {},
   "source": [
    "# 5.\tWrite a Python program to generate a random number?"
   ]
  },
  {
   "cell_type": "code",
   "execution_count": 2,
   "id": "2d744ceb",
   "metadata": {},
   "outputs": [
    {
     "name": "stdout",
     "output_type": "stream",
     "text": [
      "Enter the range1 10\n",
      "4\n"
     ]
    }
   ],
   "source": [
    "import random\n",
    "a=list(map(int,input(\"Enter the range\").split()))\n",
    "print(random.randint(a[0],a[1]))"
   ]
  },
  {
   "cell_type": "code",
   "execution_count": null,
   "id": "c6b2238a",
   "metadata": {},
   "outputs": [],
   "source": []
  }
 ],
 "metadata": {
  "kernelspec": {
   "display_name": "Python 3",
   "language": "python",
   "name": "python3"
  },
  "language_info": {
   "codemirror_mode": {
    "name": "ipython",
    "version": 3
   },
   "file_extension": ".py",
   "mimetype": "text/x-python",
   "name": "python",
   "nbconvert_exporter": "python",
   "pygments_lexer": "ipython3",
   "version": "3.8.8"
  }
 },
 "nbformat": 4,
 "nbformat_minor": 5
}
