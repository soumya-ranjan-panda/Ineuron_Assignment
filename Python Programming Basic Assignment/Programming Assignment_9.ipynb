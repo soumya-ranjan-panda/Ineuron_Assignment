{
 "cells": [
  {
   "cell_type": "markdown",
   "id": "da6d5a0f",
   "metadata": {},
   "source": [
    "# 1.\tWrite a Python program to check if the given number is a Disarium Number?"
   ]
  },
  {
   "cell_type": "code",
   "execution_count": null,
   "id": "1258ba0c",
   "metadata": {},
   "outputs": [],
   "source": [
    "def Disarium_Number(Value):\n",
    "    length=len(str(Value))\n",
    "    Temp=Value\n",
    "    Tot=0\n",
    "    count=length\n",
    "    while Temp!=0:\n",
    "        Num=Temp%10\n",
    "        Tot+=Num**(count)\n",
    "        count-=1\n",
    "        Temp=Temp//10\n",
    "    if Value == Tot:\n",
    "        print(\"The given Number {} is a  Disarium Number\".format(Value))\n",
    "    else:\n",
    "        print(\"The given Number {} is Not a  Disarium Number\".format(Value))\n",
    "Value=int(input(\"Enter a Number for Check Disarium Number ::\"))\n",
    "Disarium_Number(Value)\n"
   ]
  },
  {
   "cell_type": "markdown",
   "id": "7b67e643",
   "metadata": {},
   "source": [
    "# 2.\tWrite a Python program to print all disarium numbers between 1 to 100?"
   ]
  },
  {
   "cell_type": "code",
   "execution_count": null,
   "id": "b8647a1c",
   "metadata": {},
   "outputs": [],
   "source": [
    "def Disarium_Number():\n",
    "    print(\" Find the Disarium Number between 1 to 100\")\n",
    "    final=[]\n",
    "    for i in range(1,100):\n",
    "        length=len(str(i))\n",
    "        Temp=i\n",
    "        Tot=0\n",
    "        count=length\n",
    "        while Temp!=0:\n",
    "            Num=Temp%10\n",
    "            Tot+=Num**(count)\n",
    "            count-=1\n",
    "            Temp=Temp//10\n",
    "        if i == Tot:\n",
    "            final.append(i)\n",
    "        else:\n",
    "            pass\n",
    "    print(\"disarium numbers between 1 to 100::\",final)\n",
    "Disarium_Number()\n"
   ]
  },
  {
   "cell_type": "markdown",
   "id": "5a01c788",
   "metadata": {},
   "source": [
    "# 3.\tWrite a Python program to check if the given number is Happy Number?"
   ]
  },
  {
   "cell_type": "code",
   "execution_count": 2,
   "id": "10cb520b",
   "metadata": {},
   "outputs": [
    {
     "name": "stdout",
     "output_type": "stream",
     "text": [
      "Enter a Number for Check Happy Number ::14\n",
      "17\n",
      "50\n",
      "25\n",
      "29\n",
      "85\n",
      "89\n",
      "145\n",
      "42\n",
      "20\n",
      "4\n",
      "16\n",
      "37\n",
      "58\n",
      "89\n",
      "Not a Happy Number\n"
     ]
    }
   ],
   "source": [
    "def happy_Number(Value):\n",
    "    check_List=[]\n",
    "    Temp=Value\n",
    "    Tot=0\n",
    "    while Tot!=1:\n",
    "        Tot=0\n",
    "        while Temp!=0:\n",
    "            Num=Temp%10\n",
    "            Tot+=Num**2\n",
    "            Temp=Temp//10\n",
    "        #print(Tot)\n",
    "        if Tot in check_List:\n",
    "            print(\"Not a Happy Number\")\n",
    "            break\n",
    "        else:\n",
    "            check_List.append(Tot)\n",
    "            Temp=Tot\n",
    "            \n",
    "    if Tot==1:\n",
    "        print(\"{} is a Happy Number\".format(Value))\n",
    "    else:\n",
    "        pass\n",
    "Value=int(input(\"Enter a Number for Check Happy Number ::\"))\n",
    "happy_Number(Value)\n"
   ]
  },
  {
   "cell_type": "markdown",
   "id": "68c0a49c",
   "metadata": {},
   "source": [
    "# 4.\tWrite a Python program to print all happy numbers between 1 and 100?"
   ]
  },
  {
   "cell_type": "code",
   "execution_count": 4,
   "id": "6d8671f5",
   "metadata": {},
   "outputs": [
    {
     "name": "stdout",
     "output_type": "stream",
     "text": [
      "Find the Happy number betwen 1 to 100\n",
      "Happy numbeers are [1, 7, 10, 13, 19, 23, 28, 31, 32, 44, 49, 68, 70, 79, 82, 86, 91, 94, 97]\n"
     ]
    }
   ],
   "source": [
    "def happy_Number_list():\n",
    "    print(\"Find the Happy number betwen 1 to 100\")\n",
    "    Final_list=[]\n",
    "    for i in range(1,100):\n",
    "        check_List=[]\n",
    "        Temp=i\n",
    "        Tot=0\n",
    "        while Tot!=1:\n",
    "            Tot=0\n",
    "            while Temp!=0:\n",
    "                Num=Temp%10\n",
    "                Tot+=Num**2\n",
    "                Temp=Temp//10\n",
    "            #print(Tot)\n",
    "            if Tot in check_List:\n",
    "                #print(\"Not a Happy Number\")\n",
    "                break\n",
    "            else:\n",
    "                check_List.append(Tot)\n",
    "                Temp=Tot\n",
    "            \n",
    "        if Tot==1:\n",
    "            Final_list.append(i)\n",
    "        else:\n",
    "            pass\n",
    "    if len(Final_list)>1:\n",
    "        return Final_list\n",
    "    else:\n",
    "        return 0\n",
    "print(\"Happy numbeers are\",happy_Number_list())\n"
   ]
  },
  {
   "cell_type": "markdown",
   "id": "6ec43668",
   "metadata": {},
   "source": [
    "# 5.\tWrite a Python program to determine whether the given number is a Harshad Number?"
   ]
  },
  {
   "cell_type": "code",
   "execution_count": 6,
   "id": "ff5b9012",
   "metadata": {},
   "outputs": [
    {
     "name": "stdout",
     "output_type": "stream",
     "text": [
      "Enter a Number for Check Harshad Number ::48\n",
      "The given Number 48 is a  Harshad Number\n"
     ]
    }
   ],
   "source": [
    "def Harshad_Number(Value):\n",
    "    Temp=Value\n",
    "    Tot=0\n",
    "    while Temp!=0:\n",
    "        Num=Temp%10\n",
    "        Tot+=Num\n",
    "        Temp=Temp//10\n",
    "    if Value%Num == 0:\n",
    "        print(\"The given Number {} is a  Harshad Number\".format(Value))\n",
    "    else:\n",
    "        print(\"The given Number {} is Not a  Harshad Number\".format(Value))\n",
    "Value=int(input(\"Enter a Number for Check Harshad Number ::\"))\n",
    "Harshad_Number(Value)\n",
    "\n",
    "    "
   ]
  },
  {
   "cell_type": "markdown",
   "id": "e6e96b90",
   "metadata": {},
   "source": [
    "# 6.\tWrite a Python program to print all pronic numbers between 1 and 100?"
   ]
  },
  {
   "cell_type": "code",
   "execution_count": 3,
   "id": "a5243a9e",
   "metadata": {},
   "outputs": [
    {
     "name": "stdout",
     "output_type": "stream",
     "text": [
      "All the pronic number between 1 to 100 are [6, 12, 20, 30, 42, 56, 72, 90]\n"
     ]
    }
   ],
   "source": [
    "def Pronic_Number():\n",
    "    Final=[]\n",
    "    for i in range(1,100):\n",
    "        for j in range(1,i//2):\n",
    "            if i%j==0:\n",
    "                prev=j\n",
    "                next=j+1\n",
    "                if prev*next == i:\n",
    "                    Final.append(i)\n",
    "                else:\n",
    "                    pass\n",
    "    print(\"All the pronic number between 1 to 100 are\",Final)\n",
    "Pronic_Number()\n"
   ]
  },
  {
   "cell_type": "code",
   "execution_count": null,
   "id": "4434b489",
   "metadata": {},
   "outputs": [],
   "source": []
  }
 ],
 "metadata": {
  "kernelspec": {
   "display_name": "Python 3",
   "language": "python",
   "name": "python3"
  },
  "language_info": {
   "codemirror_mode": {
    "name": "ipython",
    "version": 3
   },
   "file_extension": ".py",
   "mimetype": "text/x-python",
   "name": "python",
   "nbconvert_exporter": "python",
   "pygments_lexer": "ipython3",
   "version": "3.8.8"
  }
 },
 "nbformat": 4,
 "nbformat_minor": 5
}
