{
 "cells": [
  {
   "cell_type": "markdown",
   "id": "058095f8",
   "metadata": {},
   "source": [
    "# 1.\tWrite a Python Program to find sum of array?"
   ]
  },
  {
   "cell_type": "code",
   "execution_count": 2,
   "id": "d1ca2c00",
   "metadata": {},
   "outputs": [
    {
     "name": "stdout",
     "output_type": "stream",
     "text": [
      "Enter the values inside the array1 2 3\n",
      "The number inside the array [1, 2, 3]\n",
      "Total sum of the arry is :: 6\n"
     ]
    }
   ],
   "source": [
    "def array_sum(Value):\n",
    "    Total=sum(Value)\n",
    "    print(\"The number inside the array\",Value)\n",
    "    print(\"Total sum of the arry is ::\",Total)\n",
    "Value=list(map(int,input(\"Enter the values inside the array\").split()))\n",
    "array_sum(Value)"
   ]
  },
  {
   "cell_type": "markdown",
   "id": "28371d4d",
   "metadata": {},
   "source": [
    "# 2.\tWrite a Python Program to find largest element in an array?"
   ]
  },
  {
   "cell_type": "code",
   "execution_count": 3,
   "id": "b78eea96",
   "metadata": {},
   "outputs": [
    {
     "name": "stdout",
     "output_type": "stream",
     "text": [
      "Enter the values inside the array1 2 3\n",
      "The number inside the array [1, 2, 3]\n",
      "Max Elementt in array :: 3\n"
     ]
    }
   ],
   "source": [
    "def array_max(Value):\n",
    "    Max_ele=max(Value)\n",
    "    print(\"The number inside the array\",Value)\n",
    "    print(\"Max Elementt in array ::\",Max_ele)\n",
    "Value=list(map(int,input(\"Enter the values inside the array\").split()))\n",
    "array_max(Value)"
   ]
  },
  {
   "cell_type": "markdown",
   "id": "16ce8d0c",
   "metadata": {},
   "source": [
    "# 3.\tWrite a Python Program for array rotation?"
   ]
  },
  {
   "cell_type": "code",
   "execution_count": 16,
   "id": "6f949fca",
   "metadata": {},
   "outputs": [
    {
     "name": "stdout",
     "output_type": "stream",
     "text": [
      "Enter the values inside the array1 2 3 4\n",
      "Enter the Number  of rotation time3\n",
      "The number inside the array after 0th rotation is ::: [2, 3, 4, 1]\n",
      "The number inside the array after 1th rotation is ::: [3, 4, 1, 2]\n",
      "The number inside the array after 2th rotation is ::: [4, 1, 2, 3]\n"
     ]
    }
   ],
   "source": [
    "def array_rotation(Value,Number_Rotation):\n",
    "    for i in range(Number_Rotation):\n",
    "        Value.append(Value[0])\n",
    "        Value.pop(0)\n",
    "        print(\"The number inside the array after {}th rotation is ::: {}\".format(i,Value))\n",
    "   # print(\"arry after rotation::\",New_array)\n",
    "Value=list(map(int,input(\"Enter the values inside the array\").split()))\n",
    "Number_Rotation=int(input(\"Enter the Number  of rotation time\"))\n",
    "array_rotation(Value,Number_Rotation)"
   ]
  },
  {
   "cell_type": "markdown",
   "id": "49449564",
   "metadata": {},
   "source": [
    "# 4.\tWrite a Python Program to Split the array and add the first part to the end?"
   ]
  },
  {
   "cell_type": "code",
   "execution_count": 8,
   "id": "5e26c256",
   "metadata": {},
   "outputs": [
    {
     "name": "stdout",
     "output_type": "stream",
     "text": [
      "Enter the values inside the array1 2 3 4\n",
      "Enter the split postion2\n",
      "After split firt half of the arry [1, 2]\n",
      "After split second half of the arry [3, 4]\n",
      "After split  New formation array [3, 4, 1, 2]\n"
     ]
    }
   ],
   "source": [
    "def array_Position(Value,Position):\n",
    "    First_half=Value[0:Position]\n",
    "    second_half=Value[Position:]\n",
    "    New_arry=second_half+First_half\n",
    "    print(\"After split firt half of the arry\",First_half)\n",
    "    print(\"After split second half of the arry\",second_half)\n",
    "    print(\"After split  New formation array\",New_arry)\n",
    "Value=list(map(int,input(\"Enter the values inside the array\").split()))\n",
    "Position=int(input(\"Enter the split postion\"))\n",
    "array_Position(Value,Position)"
   ]
  },
  {
   "cell_type": "markdown",
   "id": "0d9dae5a",
   "metadata": {},
   "source": [
    "# 5.\tWrite a Python Program to check if given array is Monotonic?"
   ]
  },
  {
   "cell_type": "code",
   "execution_count": 13,
   "id": "be63ae70",
   "metadata": {},
   "outputs": [
    {
     "name": "stdout",
     "output_type": "stream",
     "text": [
      "Enter the values inside the array1 6 4 3\n",
      "The arry is not_Monotonic\n"
     ]
    }
   ],
   "source": [
    "def Monotonic_array(Value):\n",
    "    Ascending_array=sorted(Value)\n",
    "    Descending_array=sorted(Value,reverse=True)\n",
    "    if Value ==  Descending_array or Value == Ascending_array:\n",
    "        print(\"The provided array is monotonic \",Value)\n",
    "    else:\n",
    "        print(\"The arry is not_Monotonic\")\n",
    "\n",
    "Value=list(map(int,input(\"Enter the values inside the array\").split()))\n",
    "Monotonic_array(Value)"
   ]
  },
  {
   "cell_type": "code",
   "execution_count": null,
   "id": "8773f6c1",
   "metadata": {},
   "outputs": [],
   "source": []
  }
 ],
 "metadata": {
  "kernelspec": {
   "display_name": "Python 3",
   "language": "python",
   "name": "python3"
  },
  "language_info": {
   "codemirror_mode": {
    "name": "ipython",
    "version": 3
   },
   "file_extension": ".py",
   "mimetype": "text/x-python",
   "name": "python",
   "nbconvert_exporter": "python",
   "pygments_lexer": "ipython3",
   "version": "3.8.8"
  }
 },
 "nbformat": 4,
 "nbformat_minor": 5
}
