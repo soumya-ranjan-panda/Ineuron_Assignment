{
 "cells": [
  {
   "cell_type": "markdown",
   "id": "c4c2d57c",
   "metadata": {},
   "source": [
    "# Question 1:\n",
    "\n",
    "Write a program that calculates and prints the value according to the given formula:\n",
    "\n",
    "Q = Square root of [(2 * C * D)/H]\n",
    "\n",
    "Following are the fixed values of C and H:\n",
    "\n",
    "C is 50. H is 30.\n",
    "\n",
    "D is the variable whose values should be input to your program in a comma-separated sequence.\n",
    "\n",
    "Example\n",
    "\n",
    "Let us assume the following comma separated input sequence is given to the program:\n",
    "\n",
    "100,150,180\n",
    "\n",
    "The output of the program should be:\n",
    "\n",
    "18,22,24\n"
   ]
  },
  {
   "cell_type": "code",
   "execution_count": 1,
   "id": "82162fb0",
   "metadata": {},
   "outputs": [
    {
     "name": "stdout",
     "output_type": "stream",
     "text": [
      "Enter the number :::100 150 180\n",
      "18,22,24\n"
     ]
    }
   ],
   "source": [
    "\n",
    "def calculate(Value):\n",
    "    import math\n",
    "    C=50\n",
    "    H=30\n",
    "    List=[]\n",
    "    for i in Value:\n",
    "        D=i\n",
    "        formula=math.sqrt((2*C*D)/H)\n",
    "        List.append(str(round(formula)))\n",
    "        List1=(',').join(List)\n",
    "    print(List1)\n",
    "Value=list(map(int,input(\"Enter the number :::\").split()))\n",
    "calculate(Value)\n",
    "\n",
    "    \n"
   ]
  },
  {
   "cell_type": "markdown",
   "id": "ce5fd241",
   "metadata": {},
   "source": [
    "# Question 2:\n",
    "Write a program which takes 2 digits, X,Y as input and generates a 2-dimensional array. The element value in the i-th row and j-th column of the array should be i*j.\n",
    "\n",
    "Note: i=0,1.., X-1; j=0,1,¡¬Y-1.\n",
    "\n",
    "Example\n",
    "\n",
    "Suppose the following inputs are given to the program:\n",
    "\n",
    "3,5\n",
    "\n",
    "Then, the output of the program should be:\n",
    "\n",
    "[[0, 0, 0, 0, 0], [0, 1, 2, 3, 4], [0, 2, 4, 6, 8]] \n"
   ]
  },
  {
   "cell_type": "code",
   "execution_count": 2,
   "id": "2d1d85b3",
   "metadata": {},
   "outputs": [
    {
     "name": "stdout",
     "output_type": "stream",
     "text": [
      "Enter tthe Row & Column :::3 5\n",
      "[[0, 0, 0, 0, 0], [0, 1, 2, 3, 4], [0, 2, 4, 6, 8]]\n"
     ]
    }
   ],
   "source": [
    "def arry_2D(Value):\n",
    "    l=[]\n",
    "    Row=Value[0]\n",
    "    Column=Value[1]\n",
    "    for i in range(Row):\n",
    "        k=[]\n",
    "        for j in range(Column):\n",
    "            insert=i*j\n",
    "            k.append(insert)\n",
    "        l.append(k)\n",
    "    print(l)\n",
    "Value=list(map(int,input(\"Enter tthe Row & Column :::\").split()))\n",
    "arry_2D(Value)\n",
    "            \n",
    "            "
   ]
  },
  {
   "cell_type": "markdown",
   "id": "664e8677",
   "metadata": {},
   "source": [
    "# Question 3:\n",
    "Write a program that accepts a comma separated sequence of words as input and prints the words in a comma-separated sequence after sorting them alphabetically.\n",
    "\n",
    "Suppose the following input is supplied to the program:\n",
    "\n",
    "without,hello,bag,world\n",
    "\n",
    "Then, the output should be:\n",
    "\n",
    "bag,hello,without,world\n"
   ]
  },
  {
   "cell_type": "code",
   "execution_count": 3,
   "id": "97139299",
   "metadata": {},
   "outputs": [
    {
     "name": "stdout",
     "output_type": "stream",
     "text": [
      "Enter a comma separated sentence:::: sou,a,b,z\n",
      "a,b,sou,z\n"
     ]
    }
   ],
   "source": [
    "def Sort(Value):\n",
    "    List=Value.split(',')\n",
    "    List=sorted(List)\n",
    "    List1=(',').join(List)\n",
    "    print(List1)\n",
    "Value=input(\"Enter a comma separated sentence:::: \")\n",
    "Sort(Value)\n"
   ]
  },
  {
   "cell_type": "markdown",
   "id": "5e277082",
   "metadata": {},
   "source": [
    "# Question 4:\n",
    "Write a program that accepts a sequence of whitespace separated words as input and prints the words after removing all duplicate words and sorting them alphanumerically.\n",
    "\n",
    "Suppose the following input is supplied to the program:\n",
    "\n",
    "hello world and practice makes perfect and hello world again\n",
    "\n",
    "Then, the output should be:\n",
    "\n",
    "again and hello makes perfect practice world\n"
   ]
  },
  {
   "cell_type": "code",
   "execution_count": 5,
   "id": "8c9c77cd",
   "metadata": {},
   "outputs": [
    {
     "name": "stdout",
     "output_type": "stream",
     "text": [
      "Enter a comma separated sentence ::: hello world and practice makes perfect and hello world again\n",
      "OP::again and hello makes perfect practice world\n"
     ]
    }
   ],
   "source": [
    "def Sort_word(Value):\n",
    "    List=Value.split(' ')\n",
    "    List=sorted(set(List))\n",
    "    List1=(' ').join(List)\n",
    "    print('OP::'+str(List1))\n",
    "Value=input(\"Enter a comma separated sentence ::: \")\n",
    "Sort_word(Value)\n"
   ]
  },
  {
   "cell_type": "markdown",
   "id": "848211d8",
   "metadata": {},
   "source": [
    "# Question 5:\n",
    "Write a program that accepts a sentence and calculate the number of letters and digits.\n",
    "\n",
    "Suppose the following input is supplied to the program:\n",
    "\n",
    "hello world! 123\n",
    "\n",
    "Then, the output should be:\n",
    "\n",
    "LETTERS 10\n",
    "\n",
    "DIGITS 3\n"
   ]
  },
  {
   "cell_type": "code",
   "execution_count": 6,
   "id": "3c1eda5c",
   "metadata": {},
   "outputs": [
    {
     "name": "stdout",
     "output_type": "stream",
     "text": [
      "Enter a comma separated sentence :: hello world! 123\n",
      "LETTERS:: 10\n",
      "DIGITS ::  3\n"
     ]
    }
   ],
   "source": [
    "def Calculate_Letter_Digit(Value):\n",
    "    List=list(Value)\n",
    "    Letter=0\n",
    "    Digits=0\n",
    "    for i in List:\n",
    "        if (ord(i)>=65 and ord(i)<=90)or (ord(i)>=97 and ord(i)<=122):\n",
    "            Letter+=1\n",
    "        elif (ord(i)>=48 and ord(i)<=57):\n",
    "            Digits+=1\n",
    "        else:\n",
    "            pass\n",
    "    print(\"LETTERS::\",Letter)\n",
    "    print(\"DIGITS :: \",Digits)\n",
    "Value=input(\"Enter a comma separated sentence :: \")\n",
    "Calculate_Letter_Digit(Value)"
   ]
  },
  {
   "cell_type": "markdown",
   "id": "98ce52dc",
   "metadata": {},
   "source": [
    "# Question 6:\n",
    "A website requires the users to input username and password to register. Write a program to check the validity of password input by users.\n",
    "\n",
    "Following are the criteria for checking the password:\n",
    "\n",
    "1. At least 1 letter between [a-z]\n",
    "\n",
    "2. At least 1 number between [0-9]\n",
    "\n",
    "1. At least 1 letter between [A-Z]\n",
    "\n",
    "3. At least 1 character from [$#@]\n",
    "\n",
    "4. Minimum length of transaction password: 6\n",
    "\n",
    "5. Maximum length of transaction password: 12\n",
    "\n",
    "Your program should accept a sequence of comma separated passwords and will check them according to the above criteria. Passwords that match the criteria are to be printed, each separated by a comma.\n",
    "\n",
    "Example\n",
    "\n",
    "If the following passwords are given as input to the program:\n",
    "\n",
    "ABd1234@1,a F1#,2w3E*,2We3345\n",
    "\n",
    "Then, the output of the program should be:\n",
    "\n",
    "ABd1234@1\n"
   ]
  },
  {
   "cell_type": "code",
   "execution_count": 8,
   "id": "8ee92f6d",
   "metadata": {},
   "outputs": [
    {
     "name": "stdout",
     "output_type": "stream",
     "text": [
      "Enter a comma separated sentence :::: ABd1234@1,a F1#,2w3E*,2We3345\n",
      "OP:: ABd1234@1\n"
     ]
    }
   ],
   "source": [
    "def Password_Check(Value):\n",
    "    List=Value.split(',')\n",
    "    for i in List:\n",
    "        List1=list(i)\n",
    "        if len(List1)>=6 and len(List1)<=12:\n",
    "            lower,Upper,Number,Special=1,1,1,1\n",
    "            for j in List1:\n",
    "                if (ord(j)>=65 and ord(j)<=90):\n",
    "                    Upper-=1  \n",
    "                elif(ord(j)>=97 and ord(j)<=122):\n",
    "                    lower-=1     \n",
    "                elif (ord(j)>=48 and ord(j)<=57):\n",
    "                    Number-=1\n",
    "                elif (j in ['$','#','@']):\n",
    "                    Special-=1\n",
    "                else:\n",
    "                    pass\n",
    "            if lower<1 and Upper<1 and Number<1 and Special<1:\n",
    "                print('OP:: '+i)\n",
    "            else:\n",
    "                pass\n",
    "        else:\n",
    "            pass                    \n",
    "Value=input(\"Enter a comma separated sentence :::: \")\n",
    "Password_Check(Value)"
   ]
  },
  {
   "cell_type": "code",
   "execution_count": null,
   "id": "b1dac33a",
   "metadata": {},
   "outputs": [],
   "source": []
  }
 ],
 "metadata": {
  "kernelspec": {
   "display_name": "Python 3",
   "language": "python",
   "name": "python3"
  },
  "language_info": {
   "codemirror_mode": {
    "name": "ipython",
    "version": 3
   },
   "file_extension": ".py",
   "mimetype": "text/x-python",
   "name": "python",
   "nbconvert_exporter": "python",
   "pygments_lexer": "ipython3",
   "version": "3.8.8"
  }
 },
 "nbformat": 4,
 "nbformat_minor": 5
}
