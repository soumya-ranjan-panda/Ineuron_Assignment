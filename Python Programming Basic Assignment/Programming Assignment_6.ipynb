{
 "cells": [
  {
   "cell_type": "markdown",
   "id": "d9e3212f",
   "metadata": {},
   "source": [
    "# 1.\tWrite a Python Program to Display Fibonacci Sequence Using Recursion?"
   ]
  },
  {
   "cell_type": "code",
   "execution_count": null,
   "id": "f344dff3",
   "metadata": {},
   "outputs": [],
   "source": [
    "def Factorial(Value):\n",
    "    if Value <=1:\n",
    "        return 1\n",
    "    else:\n",
    "        return Factorial(Value-1)+Factorial(Value-2)\n",
    "Value=int(input(\"Enter a integer Number ::: \"))\n",
    "print(0)\n",
    "for i in range(Value-1):\n",
    "    print(Factorial(i))\n",
    "\n",
    "\n",
    "        "
   ]
  },
  {
   "cell_type": "markdown",
   "id": "afc7f69a",
   "metadata": {},
   "source": [
    "# 2.\tWrite a Python Program to Find Factorial of Number Using Recursion?"
   ]
  },
  {
   "cell_type": "code",
   "execution_count": 6,
   "id": "3d124a93",
   "metadata": {},
   "outputs": [
    {
     "name": "stdout",
     "output_type": "stream",
     "text": [
      "Enter a integer Number for Factorial5\n"
     ]
    },
    {
     "data": {
      "text/plain": [
       "120"
      ]
     },
     "execution_count": 6,
     "metadata": {},
     "output_type": "execute_result"
    }
   ],
   "source": [
    "def Factorial(Value):\n",
    "    if Value == 1:\n",
    "        return Value\n",
    "    else:\n",
    "        return Value*Factorial(Value-1)\n",
    "Value=int(input(\"Enter a integer Number for Factorial\"))\n",
    "Factorial(Value)\n",
    "\n",
    "    "
   ]
  },
  {
   "cell_type": "markdown",
   "id": "6279e349",
   "metadata": {},
   "source": [
    "# 3.\tWrite a Python Program to calculate your Body Mass Index?"
   ]
  },
  {
   "cell_type": "code",
   "execution_count": 3,
   "id": "4bc7be91",
   "metadata": {},
   "outputs": [
    {
     "name": "stdout",
     "output_type": "stream",
     "text": [
      "Enter Weight & Height::60 7\n",
      "BMI value is1.2244897959183674\n"
     ]
    }
   ],
   "source": [
    "def Calculate_BMI(Value):\n",
    "    Weight=Value[0]\n",
    "    height=Value[1]\n",
    "    BMI=Weight/(height**2)\n",
    "    print(\"BMI value is\"+str(BMI))\n",
    "Value=list(map(int,input(\"Enter Weight & Height::\").split()))\n",
    "Calculate_BMI(Value)\n"
   ]
  },
  {
   "cell_type": "markdown",
   "id": "49d8ae98",
   "metadata": {},
   "source": [
    "# 4.\tWrite a Python Program to calculate the natural logarithm of any number?"
   ]
  },
  {
   "cell_type": "code",
   "execution_count": 5,
   "id": "b8091828",
   "metadata": {},
   "outputs": [
    {
     "name": "stdout",
     "output_type": "stream",
     "text": [
      "enter the integer value100\n",
      "log of the 100 numbeer is 4.605170185988092\n"
     ]
    }
   ],
   "source": [
    "import math\n",
    "Value=int(input(\"enter the integer value\"))\n",
    "log_value=math.log(Value)\n",
    "print(\"log of the {} numbeer is {}\".format(Value,log_value))"
   ]
  },
  {
   "cell_type": "markdown",
   "id": "44ad420e",
   "metadata": {},
   "source": [
    "# 5.\tWrite a Python Program for cube sum of first n natural numbers?"
   ]
  },
  {
   "cell_type": "code",
   "execution_count": 4,
   "id": "94948563",
   "metadata": {},
   "outputs": [
    {
     "name": "stdout",
     "output_type": "stream",
     "text": [
      "enter the range point5\n",
      "Sumation of total Cube 100\n"
     ]
    }
   ],
   "source": [
    "def Calculate_Cube(Value):\n",
    "    tot=0\n",
    "    for i in range(Value):\n",
    "        tot+=i**3\n",
    "    print(\"Sumation of total Cube\",tot)\n",
    "Value=int(input(\"enter the range point\"))\n",
    "Calculate_Cube(Value)\n"
   ]
  },
  {
   "cell_type": "code",
   "execution_count": null,
   "id": "9d249523",
   "metadata": {},
   "outputs": [],
   "source": []
  }
 ],
 "metadata": {
  "kernelspec": {
   "display_name": "Python 3",
   "language": "python",
   "name": "python3"
  },
  "language_info": {
   "codemirror_mode": {
    "name": "ipython",
    "version": 3
   },
   "file_extension": ".py",
   "mimetype": "text/x-python",
   "name": "python",
   "nbconvert_exporter": "python",
   "pygments_lexer": "ipython3",
   "version": "3.8.8"
  }
 },
 "nbformat": 4,
 "nbformat_minor": 5
}
