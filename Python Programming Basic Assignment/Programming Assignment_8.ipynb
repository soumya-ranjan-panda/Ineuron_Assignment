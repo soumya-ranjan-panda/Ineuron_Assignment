{
 "cells": [
  {
   "cell_type": "markdown",
   "id": "b7a415a6",
   "metadata": {},
   "source": [
    "# 1.\tWrite a Python Program to Add Two Matrices?"
   ]
  },
  {
   "cell_type": "code",
   "execution_count": 1,
   "id": "c3d6a412",
   "metadata": {},
   "outputs": [
    {
     "name": "stdout",
     "output_type": "stream",
     "text": [
      "enter the row size :: 2\n",
      "enter the column size ::: 2\n",
      "enter the value for first matrix 1 row and 1 column ::: 1\n",
      "enter the value for first matrix 1 row and 2 column ::: 2\n",
      "enter the value for first matrix 2 row and 1 column ::: 3\n",
      "enter the value for first matrix 2 row and 2 column ::: 4\n",
      "enter the value for Second matrix 1 row and 1 column ::: 5\n",
      "enter the value for Second matrix 1 row and 2 column ::: 6\n",
      "enter the value for Second matrix 2 row and 1 column ::: 7\n",
      "enter the value for Second matrix 2 row and 2 column ::: 8\n",
      "First_Matrix ::::::: [[1, 2], [3, 4]]\n",
      "-----------------------------------\n",
      "Second_Matrix::::::: [[5, 6], [7, 8]]\n",
      "-----------------------------------\n",
      "Final_Matrix::::::: [[6, 8], [10, 12]]\n"
     ]
    }
   ],
   "source": [
    "Row=int(input(\"enter the row size :: \"))\n",
    "Column=int(input(\"enter the column size ::: \"))\n",
    "First_Matrix=[]\n",
    "Second_Matrix=[]\n",
    "Final_Matrix=[]\n",
    "for i in range(Row):\n",
    "    temp=[]\n",
    "    for j in range(Column):\n",
    "        data=int(input(\"enter the value for first matrix {} row and {} column ::: \".format(i+1,j+1)))\n",
    "        temp.append(data)\n",
    "    First_Matrix.append(temp)\n",
    "for i in range(Row):\n",
    "    temp=[]\n",
    "    for j in range(Column):\n",
    "        data=int(input(\"enter the value for Second matrix {} row and {} column ::: \".format(i+1,j+1)))\n",
    "        temp.append(data)\n",
    "    Second_Matrix.append(temp)\n",
    "for i in range(Row):\n",
    "    temp=[]\n",
    "    for j in range(Column):\n",
    "        add=Second_Matrix[i][j]+First_Matrix[i][j]\n",
    "        temp.append(add)\n",
    "    Final_Matrix.append(temp)\n",
    "print(\"First_Matrix :::::::\",First_Matrix)\n",
    "print('-----------------------------------')\n",
    "print(\"Second_Matrix:::::::\",Second_Matrix)\n",
    "print('-----------------------------------')    \n",
    "print(\"Final_Matrix:::::::\",Final_Matrix)\n",
    "\n",
    "\n",
    "        "
   ]
  },
  {
   "cell_type": "markdown",
   "id": "87857e13",
   "metadata": {},
   "source": [
    "# 2.\tWrite a Python Program to Multiply Two Matrices?"
   ]
  },
  {
   "cell_type": "code",
   "execution_count": 9,
   "id": "630d68a9",
   "metadata": {},
   "outputs": [
    {
     "name": "stdout",
     "output_type": "stream",
     "text": [
      "enter the row size of First_Matrix ::: 3\n",
      "enter the column size of First_Matrix ::: 3\n",
      "enter the value for first matrix 1 row and 1 column12\n",
      "enter the value for first matrix 1 row and 2 column7\n",
      "enter the value for first matrix 1 row and 3 column3\n",
      "enter the value for first matrix 2 row and 1 column4\n",
      "enter the value for first matrix 2 row and 2 column5\n",
      "enter the value for first matrix 2 row and 3 column6\n",
      "enter the value for first matrix 3 row and 1 column7\n",
      "enter the value for first matrix 3 row and 2 column8\n",
      "enter the value for first matrix 3 row and 3 column9\n",
      "enter the row size of Second_Matrix ::: 3\n",
      "enter the column size of Second_Matrix ::: 4\n",
      "enter the value for Second matrix 1 row and 1 column5\n",
      "enter the value for Second matrix 1 row and 2 column8\n",
      "enter the value for Second matrix 1 row and 3 column1\n",
      "enter the value for Second matrix 1 row and 4 column2\n",
      "enter the value for Second matrix 2 row and 1 column6\n",
      "enter the value for Second matrix 2 row and 2 column7\n",
      "enter the value for Second matrix 2 row and 3 column3\n",
      "enter the value for Second matrix 2 row and 4 column0\n",
      "enter the value for Second matrix 3 row and 1 column4\n",
      "enter the value for Second matrix 3 row and 2 column5\n",
      "enter the value for Second matrix 3 row and 3 column9\n",
      "enter the value for Second matrix 3 row and 4 column1\n",
      "First_Matrix ::::::: [[12, 7, 3], [4, 5, 6], [7, 8, 9]]\n",
      "-----------------------------------\n",
      "Second_Matrix::::::: [[5, 8, 1, 2], [6, 7, 3, 0], [4, 5, 9, 1]]\n",
      "-----------------------------------\n",
      "Final_Matrix::::::: [[114, 160, 60, 27], [74, 97, 73, 14], [119, 157, 112, 23]]\n"
     ]
    }
   ],
   "source": [
    "First_Matrix=[]\n",
    "Second_Matrix=[]\n",
    "Final_Matrix=[]\n",
    "Row=int(input(\"enter the row size of First_Matrix ::: \"))\n",
    "Column=int(input(\"enter the column size of First_Matrix ::: \"))\n",
    "for i in range(Row):\n",
    "    temp=[]\n",
    "    for j in range(Column):\n",
    "        data=int(input(\"enter the value for first matrix {} row and {} column :::: \".format(i+1,j+1)))\n",
    "        temp.append(data)\n",
    "    First_Matrix.append(temp)\n",
    "Row1=int(input(\"enter the row size of Second_Matrix ::: \"))\n",
    "Column1=int(input(\"enter the column size of Second_Matrix ::: \"))\n",
    "for i in range(Row1):\n",
    "    temp=[]\n",
    "    for j in range(Column1):\n",
    "        data=int(input(\"enter the value for Second matrix {} row and {} column :::: \".format(i+1,j+1)))\n",
    "        temp.append(data)\n",
    "    Second_Matrix.append(temp)\n",
    "for i in range(len(First_Matrix)):\n",
    "    temp=[]\n",
    "    for k in range(len(Second_Matrix[0])):\n",
    "        add=0\n",
    "        for j in range(len(Second_Matrix)):\n",
    "            #print(str(First_Matrix[i][j])+'*'+str(Second_Matrix[k][j]))\n",
    "            add+=(First_Matrix[i][j]*Second_Matrix[j][k])\n",
    "            #print(add)\n",
    "        temp.append(add)\n",
    "    Final_Matrix.append(temp)\n",
    "print(\"First_Matrix :::::::\",First_Matrix)\n",
    "print('-----------------------------------')\n",
    "print(\"Second_Matrix:::::::\",Second_Matrix)\n",
    "print('-----------------------------------')    \n",
    "print(\"Final_Matrix:::::::\",Final_Matrix)\n",
    "\n"
   ]
  },
  {
   "cell_type": "markdown",
   "id": "5c542de4",
   "metadata": {},
   "source": [
    "# 3.\tWrite a Python Program to Transpose a Matrix?"
   ]
  },
  {
   "cell_type": "code",
   "execution_count": 2,
   "id": "077517fd",
   "metadata": {},
   "outputs": [
    {
     "name": "stdout",
     "output_type": "stream",
     "text": [
      "enter the row size :: 2\n",
      "enter the column size :: 3\n",
      "enter the value for first matrix 1 row and 1 column ::: 1\n",
      "enter the value for first matrix 1 row and 2 column ::: 2\n",
      "enter the value for first matrix 1 row and 3 column ::: 3\n",
      "enter the value for first matrix 2 row and 1 column ::: 4\n",
      "enter the value for first matrix 2 row and 2 column ::: 5\n",
      "enter the value for first matrix 2 row and 3 column ::: 6\n",
      "First_Matrix ::::::: [[1, 2, 3], [4, 5, 6]]\n",
      "-----------------------------------\n",
      "Final_Matrix::::::: [[1, 4], [2, 5], [3, 6]]\n"
     ]
    }
   ],
   "source": [
    "Row=int(input(\"enter the row size :: \"))\n",
    "Column=int(input(\"enter the column size :: \"))\n",
    "First_Matrix=[]\n",
    "Final_Matrix=[]\n",
    "for i in range(Row):\n",
    "    temp=[]\n",
    "    for j in range(Column):\n",
    "        data=int(input(\"enter the value for first matrix {} row and {} column ::: \".format(i+1,j+1)))\n",
    "        temp.append(data)\n",
    "    First_Matrix.append(temp)\n",
    "for i in range(Column):\n",
    "    temp=[]\n",
    "    for j in range(Row):\n",
    "        temp.append(First_Matrix[j][i])\n",
    "    Final_Matrix.append(temp)\n",
    "print(\"First_Matrix :::::::\",First_Matrix)\n",
    "print('-----------------------------------')\n",
    "print(\"Final_Matrix:::::::\",Final_Matrix)\n"
   ]
  },
  {
   "cell_type": "markdown",
   "id": "e8dea8ab",
   "metadata": {},
   "source": [
    "# 4.\tWrite a Python Program to Sort Words in Alphabetic Order?"
   ]
  },
  {
   "cell_type": "code",
   "execution_count": 10,
   "id": "8f61d399",
   "metadata": {},
   "outputs": [
    {
     "name": "stdout",
     "output_type": "stream",
     "text": [
      "enter a word :::: souya\n",
      "After sort the word ::  aosuy\n"
     ]
    }
   ],
   "source": [
    "def sot_ord(Value):\n",
    "    temp=list(Value)\n",
    "    final=sorted(temp)\n",
    "    print('After sort the word :: ',''.join(final))\n",
    "Value=input(\"enter a word :::: \")\n",
    "sot_ord(Value)\n"
   ]
  },
  {
   "cell_type": "markdown",
   "id": "eaa1fb4f",
   "metadata": {},
   "source": [
    "# 5.\tWrite a Python Program to Remove Punctuation From a String?"
   ]
  },
  {
   "cell_type": "code",
   "execution_count": 14,
   "id": "f6abbd60",
   "metadata": {},
   "outputs": [
    {
     "name": "stdout",
     "output_type": "stream",
     "text": [
      "enter a word :::: ^^^fjjfj..\n",
      "After remove  the word ::  fjjfj\n"
     ]
    }
   ],
   "source": [
    "def remove_punct(Value):\n",
    "    temp=list(Value)\n",
    "    import string \n",
    "    result = string.punctuation\n",
    "    for i in range(len(temp)-1,-1,-1):\n",
    "        if temp[i] in result:\n",
    "            temp.pop(i)\n",
    "        else:\n",
    "            pass\n",
    "    print('After remove  the word :: ',''.join(temp))\n",
    "Value=input(\"enter a word ::::\")\n",
    "remove_punct(Value)"
   ]
  },
  {
   "cell_type": "code",
   "execution_count": null,
   "id": "a6f7ac0d",
   "metadata": {},
   "outputs": [],
   "source": []
  }
 ],
 "metadata": {
  "kernelspec": {
   "display_name": "Python 3",
   "language": "python",
   "name": "python3"
  },
  "language_info": {
   "codemirror_mode": {
    "name": "ipython",
    "version": 3
   },
   "file_extension": ".py",
   "mimetype": "text/x-python",
   "name": "python",
   "nbconvert_exporter": "python",
   "pygments_lexer": "ipython3",
   "version": "3.8.8"
  }
 },
 "nbformat": 4,
 "nbformat_minor": 5
}
