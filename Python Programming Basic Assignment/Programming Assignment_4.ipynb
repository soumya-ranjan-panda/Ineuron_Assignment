{
 "cells": [
  {
   "cell_type": "markdown",
   "id": "c672c8f0",
   "metadata": {},
   "source": [
    "# 1.\tWrite a Python Program to Find the Factorial of a Number?"
   ]
  },
  {
   "cell_type": "code",
   "execution_count": 2,
   "id": "812af05c",
   "metadata": {},
   "outputs": [
    {
     "name": "stdout",
     "output_type": "stream",
     "text": [
      "Enter a integer Number for Factorial :: 15\n"
     ]
    },
    {
     "data": {
      "text/plain": [
       "1307674368000"
      ]
     },
     "execution_count": 2,
     "metadata": {},
     "output_type": "execute_result"
    }
   ],
   "source": [
    "def Factorial(Value):\n",
    "    if Value == 1:\n",
    "        return Value\n",
    "    else:\n",
    "        return Value*Factorial(Value-1)\n",
    "Value=int(input(\"Enter a integer Number for Factorial :: \"))\n",
    "Factorial(Value)\n",
    "\n",
    "    "
   ]
  },
  {
   "cell_type": "markdown",
   "id": "e3698a76",
   "metadata": {},
   "source": [
    "# 2.\tWrite a Python Program to Display the multiplication Table?"
   ]
  },
  {
   "cell_type": "code",
   "execution_count": 3,
   "id": "c16a1f87",
   "metadata": {},
   "outputs": [
    {
     "name": "stdout",
     "output_type": "stream",
     "text": [
      "Enter a integer Number5\n",
      "5 * 1 = 5\n",
      "5 * 2 = 10\n",
      "5 * 3 = 15\n",
      "5 * 4 = 20\n",
      "5 * 5 = 25\n",
      "5 * 6 = 30\n",
      "5 * 7 = 35\n",
      "5 * 8 = 40\n",
      "5 * 9 = 45\n",
      "5 * 10 = 50\n"
     ]
    }
   ],
   "source": [
    "def Multplication_Table(Value):\n",
    "    for i in range(1,11):\n",
    "        print(\"{} * {} = {}\".format(Value,i,Value*i))\n",
    "Value=int(input(\"Enter a integer Number :: \"))\n",
    "Multplication_Table(Value)\n"
   ]
  },
  {
   "cell_type": "code",
   "execution_count": null,
   "id": "52954621",
   "metadata": {},
   "outputs": [],
   "source": []
  },
  {
   "cell_type": "markdown",
   "id": "7d18180c",
   "metadata": {},
   "source": [
    "# 3.\tWrite a Python Program to Print the Fibonacci sequence?"
   ]
  },
  {
   "cell_type": "markdown",
   "id": "721c21e5",
   "metadata": {},
   "source": [
    "def Fibonacci(Value):\n",
    "\n"
   ]
  },
  {
   "cell_type": "code",
   "execution_count": 28,
   "id": "143e3c0b",
   "metadata": {},
   "outputs": [
    {
     "name": "stdout",
     "output_type": "stream",
     "text": [
      "Enter a integer Number ::: 5\n",
      "0\n",
      "1\n",
      "1\n",
      "2\n",
      "3\n"
     ]
    }
   ],
   "source": [
    "def Factorial(Value):\n",
    "    if Value <=1:\n",
    "        return 1\n",
    "    else:\n",
    "        return Factorial(Value-1)+Factorial(Value-2)\n",
    "Value=int(input(\"Enter a integer Number ::: \"))\n",
    "print(0)\n",
    "for i in range(Value-1):\n",
    "    print(Factorial(i))\n",
    "\n",
    "\n",
    "        "
   ]
  },
  {
   "cell_type": "markdown",
   "id": "1525b91e",
   "metadata": {},
   "source": [
    "# 4.\tWrite a Python Program to Check Armstrong Number?"
   ]
  },
  {
   "cell_type": "code",
   "execution_count": 3,
   "id": "fff8bfaa",
   "metadata": {},
   "outputs": [
    {
     "name": "stdout",
     "output_type": "stream",
     "text": [
      "Enter a Amstrong Number for check:::153\n",
      "Armstrong Number\n"
     ]
    }
   ],
   "source": [
    "def Check_Armstrong(Value):\n",
    "    length=len(str(Value))\n",
    "    Temp=Value\n",
    "    tot=0\n",
    "    while Temp!=0:\n",
    "        num=Temp%10\n",
    "        tot+=num**length\n",
    "        Temp=Temp//10\n",
    "    if Value == tot:\n",
    "        print(\"Armstrong Number\")\n",
    "    else:\n",
    "        print(\"Not_Armstrong Number\")\n",
    "Value=int(input(\"Enter a Amstrong Number for check:::\"))\n",
    "Check_Armstrong(Value)\n",
    "        \n",
    "        \n",
    "        \n",
    "    "
   ]
  },
  {
   "cell_type": "markdown",
   "id": "e31c00b9",
   "metadata": {},
   "source": [
    "# 5.\tWrite a Python Program to Find Armstrong Number in an Interval?"
   ]
  },
  {
   "cell_type": "code",
   "execution_count": 21,
   "id": "b0c67085",
   "metadata": {},
   "outputs": [
    {
     "name": "stdout",
     "output_type": "stream",
     "text": [
      "Enter a Amstrong Number intraval with space separated value for check:::1 10\n",
      "Final list of Armstrong_Number [1, 2, 3, 4, 5, 6, 7, 8, 9]\n"
     ]
    }
   ],
   "source": [
    "def Check_Armstrong_interval(Value):\n",
    "    Start_position=Value[0]\n",
    "    End_position=Value[1]\n",
    "    final=[]\n",
    "    for i in range(Start_position,End_position):\n",
    "        length=len(str(i))\n",
    "        Temp=i\n",
    "        tot=0\n",
    "        while Temp!=0:\n",
    "            num=Temp%10\n",
    "            tot+=num**length\n",
    "            Temp=Temp//10\n",
    "        if i == tot:\n",
    "            final.append(i)\n",
    "        else:\n",
    "            pass\n",
    "    print(\"Final list of Armstrong_Number\",final)\n",
    "Value=list(map(int,input(\"Enter a Amstrong Number intraval with space separated value for check:::\").split()))\n",
    "Check_Armstrong_interval(Value)\n",
    "        \n",
    "        \n",
    "        \n",
    "    "
   ]
  },
  {
   "cell_type": "markdown",
   "id": "4f6b006d",
   "metadata": {},
   "source": [
    "# 6.\tWrite a Python Program to Find the Sum of Natural Numbers?"
   ]
  },
  {
   "cell_type": "code",
   "execution_count": 23,
   "id": "9670f517",
   "metadata": {},
   "outputs": [
    {
     "name": "stdout",
     "output_type": "stream",
     "text": [
      "Enter a  Number intraval with space separated value for sumation:::1 5\n",
      "Total sumation =  10\n"
     ]
    }
   ],
   "source": [
    "def Check_sum_Natural(Value):\n",
    "    tot=0\n",
    "    for i in range(Value[0],Value[1]):\n",
    "        tot+=i\n",
    "    print(\"Total sumation = \",tot)\n",
    "Value=list(map(int,input(\"Enter a  Number intraval with space separated value for sumation:::\").split()))\n",
    "Check_sum_Natural(Value)"
   ]
  },
  {
   "cell_type": "code",
   "execution_count": null,
   "id": "4a68adba",
   "metadata": {},
   "outputs": [],
   "source": []
  }
 ],
 "metadata": {
  "kernelspec": {
   "display_name": "Python 3",
   "language": "python",
   "name": "python3"
  },
  "language_info": {
   "codemirror_mode": {
    "name": "ipython",
    "version": 3
   },
   "file_extension": ".py",
   "mimetype": "text/x-python",
   "name": "python",
   "nbconvert_exporter": "python",
   "pygments_lexer": "ipython3",
   "version": "3.8.8"
  }
 },
 "nbformat": 4,
 "nbformat_minor": 5
}
