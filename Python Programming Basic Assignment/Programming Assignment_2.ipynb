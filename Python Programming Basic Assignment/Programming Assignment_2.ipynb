{
 "cells": [
  {
   "cell_type": "markdown",
   "id": "ae969ed5",
   "metadata": {},
   "source": [
    "# 1.\tWrite a Python program to convert kilometers to miles?"
   ]
  },
  {
   "cell_type": "code",
   "execution_count": 2,
   "id": "773ace33",
   "metadata": {},
   "outputs": [
    {
     "name": "stdout",
     "output_type": "stream",
     "text": [
      "enter the value for kilometer :::: 6\n",
      "Mile value ::: 3.7199999999999998\n"
     ]
    }
   ],
   "source": [
    "def converter(a):\n",
    "    mile=a*0.62\n",
    "    print(\"Mile value ::: \"+str(mile))\n",
    "kilometer=float(input(\"enter the value for kilometer :::: \"))\n",
    "converter(kilometer)"
   ]
  },
  {
   "cell_type": "markdown",
   "id": "0ef0435f",
   "metadata": {},
   "source": [
    "# 2.\tWrite a Python program to convert Celsius to Fahrenheit?"
   ]
  },
  {
   "cell_type": "code",
   "execution_count": 7,
   "id": "b57ca317",
   "metadata": {},
   "outputs": [
    {
     "name": "stdout",
     "output_type": "stream",
     "text": [
      "enter the value for Celsius :: 9\n",
      "Fahrenheit value ::48.2\n"
     ]
    }
   ],
   "source": [
    "def converter_Temp(a):\n",
    "    Fahrenheit=(a*9/5)+32\n",
    "    print(\"Fahrenheit value ::\"+str(Fahrenheit))\n",
    "Celsius=float(input(\"enter the value for Celsius :: \"))\n",
    "converter_Temp(Celsius)"
   ]
  },
  {
   "cell_type": "markdown",
   "id": "020fafd6",
   "metadata": {},
   "source": [
    "# 3.\tWrite a Python program to display calendar?"
   ]
  },
  {
   "cell_type": "code",
   "execution_count": 8,
   "id": "593b670d",
   "metadata": {},
   "outputs": [
    {
     "name": "stdout",
     "output_type": "stream",
     "text": [
      "enter the value for year & month ::: 2012 4\n",
      "2012 year & 4 month\n",
      "     April 2012\n",
      "Mo Tu We Th Fr Sa Su\n",
      "                   1\n",
      " 2  3  4  5  6  7  8\n",
      " 9 10 11 12 13 14 15\n",
      "16 17 18 19 20 21 22\n",
      "23 24 25 26 27 28 29\n",
      "30\n",
      "\n"
     ]
    }
   ],
   "source": [
    "def calender_print(a):\n",
    "    print(\"{} year & {} month\".format(a[0],a[1]))\n",
    "    import calendar\n",
    "    print(calendar.month(a[0],a[1]))\n",
    "values=list(map(int,input(\"enter the value for year & month ::: \").split()))\n",
    "calender_print(values)"
   ]
  },
  {
   "cell_type": "markdown",
   "id": "3c468948",
   "metadata": {},
   "source": [
    "# 4.\tWrite a Python program to solve quadratic equation?"
   ]
  },
  {
   "cell_type": "code",
   "execution_count": 3,
   "id": "524619f2",
   "metadata": {},
   "outputs": [
    {
     "name": "stdout",
     "output_type": "stream",
     "text": [
      "enter the value for quadratic equation value a, b ,c ::::3 4 6\n",
      "(-6+11.224972160321824j) first value & (-6-11.224972160321824j) second value of equation\n"
     ]
    }
   ],
   "source": [
    "def solve_quadratic(equation):\n",
    "    a=equation[0]\n",
    "    b=equation[1]\n",
    "    c=equation[2]\n",
    "    #print(\"The quadratic equation {}x{}+{}x+{}\".format(a,get_super('2'),b,c))\n",
    "    import cmath\n",
    "    solve1=(-b+(cmath.sqrt(b**2-4*a*c)))/2*a\n",
    "    solve2=(-b-(cmath.sqrt(b**2-4*a*c)))/2*a\n",
    "    print(\"{} first value & {} second value of equation\".format(solve1,solve2))\n",
    "equation=list(map(int,input(\"enter the value for quadratic equation value a, b ,c ::::\").split()))\n",
    "solve_quadratic(equation)"
   ]
  },
  {
   "cell_type": "markdown",
   "id": "f944f362",
   "metadata": {},
   "source": [
    "# 5.\tWrite a Python program to swap two variables without temp variable?"
   ]
  },
  {
   "cell_type": "code",
   "execution_count": 4,
   "id": "2c75417e",
   "metadata": {},
   "outputs": [
    {
     "name": "stdout",
     "output_type": "stream",
     "text": [
      "enter  a first value :: 4 \n",
      "enter  a seond value :: 5\n",
      ":::::Before Swap::::::::\n",
      "First value :4\n",
      "second value : 5\n",
      "::::::::after Swap:::::::::\n",
      "First value 5\n",
      "second value 4\n"
     ]
    }
   ],
   "source": [
    "def Swap(a,b):\n",
    "    print(\":::::Before Swap::::::::\")\n",
    "    print('First value :'+str(a))\n",
    "    print('second value : '+str(b))\n",
    "    a,b=b,a\n",
    "    print(\"::::::::after Swap:::::::::\")\n",
    "    print('First value '+str(a))\n",
    "    print('second value '+str(b))\n",
    "a=int(input(\"enter  a first value :: \"))\n",
    "b=int(input(\"enter  a seond value :: \"))\n",
    "Swap(a,b)"
   ]
  },
  {
   "cell_type": "code",
   "execution_count": null,
   "id": "fa3273d2",
   "metadata": {},
   "outputs": [],
   "source": []
  }
 ],
 "metadata": {
  "kernelspec": {
   "display_name": "Python 3",
   "language": "python",
   "name": "python3"
  },
  "language_info": {
   "codemirror_mode": {
    "name": "ipython",
    "version": 3
   },
   "file_extension": ".py",
   "mimetype": "text/x-python",
   "name": "python",
   "nbconvert_exporter": "python",
   "pygments_lexer": "ipython3",
   "version": "3.8.8"
  }
 },
 "nbformat": 4,
 "nbformat_minor": 5
}
