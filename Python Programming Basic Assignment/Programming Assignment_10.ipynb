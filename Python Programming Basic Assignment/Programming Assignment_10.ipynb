{
 "cells": [
  {
   "cell_type": "markdown",
   "id": "98a48a21",
   "metadata": {},
   "source": [
    "# 1.\tWrite a Python program to find sum of elements in list?"
   ]
  },
  {
   "cell_type": "code",
   "execution_count": 1,
   "id": "cdc05848",
   "metadata": {},
   "outputs": [
    {
     "name": "stdout",
     "output_type": "stream",
     "text": [
      "enter a list of numbr in list1 2 3\n",
      "Total sumation of list is :::: 6\n"
     ]
    }
   ],
   "source": [
    "Value=list(map(int,input(\"enter a list of numbr in list\").split()))\n",
    "print(\"Total sumation of list is ::::\",sum(Value))"
   ]
  },
  {
   "cell_type": "markdown",
   "id": "f8950809",
   "metadata": {},
   "source": [
    "# 2.\tWrite a Python program to  Multiply all numbers in the list?"
   ]
  },
  {
   "cell_type": "code",
   "execution_count": 5,
   "id": "bd02a7d8",
   "metadata": {},
   "outputs": [
    {
     "name": "stdout",
     "output_type": "stream",
     "text": [
      "enter a list of numbr in list1 2 3\n",
      "Total sumation of list is :::: 6\n"
     ]
    }
   ],
   "source": [
    "Value=list(map(int,input(\"enter a list of numbr in list\").split()))\n",
    "Tot=1\n",
    "for i in Value:\n",
    "    Tot*=i\n",
    "print(\"Total sumation of list is ::::\",Tot)"
   ]
  },
  {
   "cell_type": "markdown",
   "id": "5941d085",
   "metadata": {},
   "source": [
    "# 3.\tWrite a Python program to find smallest number in a list?"
   ]
  },
  {
   "cell_type": "code",
   "execution_count": null,
   "id": "1c0199cb",
   "metadata": {},
   "outputs": [],
   "source": [
    "Value=list(map(int,input(\"enter a list of numbr in list\").split()))\n",
    "print(\"find small number in the list is ::::\",min(Value))"
   ]
  },
  {
   "cell_type": "markdown",
   "id": "276d3468",
   "metadata": {},
   "source": [
    "# 4.\tWrite a Python program to find largest number in a list?"
   ]
  },
  {
   "cell_type": "code",
   "execution_count": null,
   "id": "08cc9222",
   "metadata": {},
   "outputs": [],
   "source": [
    "Value=list(map(int,input(\"enter a list of numbr in list\").split()))\n",
    "print(\"find Max number in the list is ::::\",max(Value))"
   ]
  },
  {
   "cell_type": "markdown",
   "id": "3320d9a8",
   "metadata": {},
   "source": [
    "# 5.\tWrite a Python program to find second largest number in a list?"
   ]
  },
  {
   "cell_type": "code",
   "execution_count": 15,
   "id": "f82720d4",
   "metadata": {},
   "outputs": [
    {
     "name": "stdout",
     "output_type": "stream",
     "text": [
      "enter a list of numbr in list4 5 1 2 2\n",
      "find second largest number in the list is :::: 4\n"
     ]
    }
   ],
   "source": [
    "Value=list(map(int,input(\"enter a list of numbr in list\").split()))\n",
    "new_list=sorted(list(set(Value)))\n",
    "print(\"find second largest number in the list is ::::\",new_list[-2])"
   ]
  },
  {
   "cell_type": "markdown",
   "id": "d12fa984",
   "metadata": {},
   "source": [
    "# 6.\tWrite a Python program to find N largest elements from a list?"
   ]
  },
  {
   "cell_type": "code",
   "execution_count": 7,
   "id": "24cbd00a",
   "metadata": {},
   "outputs": [
    {
     "name": "stdout",
     "output_type": "stream",
     "text": [
      "enter a list of numbr in list1 3 2 4 7 3\n",
      "enter the position2\n",
      "find second largest number in the list is :::: 4\n"
     ]
    }
   ],
   "source": [
    "Value=list(map(int,input(\"enter a list of numbr in list\").split()))\n",
    "Position=int(input(\"enter the position\"))\n",
    "new_list=sorted(Value)\n",
    "print(\"find second largest number in the list is ::::\",new_list[-Position])"
   ]
  },
  {
   "cell_type": "markdown",
   "id": "30dfb1b6",
   "metadata": {},
   "source": [
    "# 7.\tWrite a Python program to print even numbers in a list?"
   ]
  },
  {
   "cell_type": "code",
   "execution_count": 10,
   "id": "fef83185",
   "metadata": {},
   "outputs": [
    {
     "name": "stdout",
     "output_type": "stream",
     "text": [
      "enter a list of numbr in list1 2 3 4 55 \n",
      "Even Numbers are::  [2, 4]\n"
     ]
    }
   ],
   "source": [
    "Value=list(map(int,input(\"enter a list of numbr in list\").split()))\n",
    "Even=[]\n",
    "for i in Value:\n",
    "    if i%2==0:\n",
    "        Even.append(i)\n",
    "    else:\n",
    "        pass\n",
    "if len(Even)>0:\n",
    "    print(\"Even Numbers are:: \",Even)\n",
    "else:\n",
    "    print(\"there  is No even number are present in list\")"
   ]
  },
  {
   "cell_type": "markdown",
   "id": "ac2405b6",
   "metadata": {},
   "source": [
    "# 8.\tWrite a Python program to print odd numbers in a List?"
   ]
  },
  {
   "cell_type": "code",
   "execution_count": 11,
   "id": "78e18fa4",
   "metadata": {},
   "outputs": [
    {
     "name": "stdout",
     "output_type": "stream",
     "text": [
      "enter a list of numbr in list1 2 3 4\n",
      "odd Numbers are::  [1, 3]\n"
     ]
    }
   ],
   "source": [
    "Value=list(map(int,input(\"enter a list of numbr in list\").split()))\n",
    "odd=[]\n",
    "for i in Value:\n",
    "    if i%2!=0:\n",
    "        odd.append(i)\n",
    "    else:\n",
    "        pass\n",
    "if len(odd)>0:\n",
    "    print(\"odd Numbers are:: \",odd)\n",
    "else:\n",
    "    print(\"there  is No odd number are present in list\")"
   ]
  },
  {
   "cell_type": "markdown",
   "id": "3869499e",
   "metadata": {},
   "source": [
    "# 9.\tWrite a Python program to Remove empty List from List?"
   ]
  },
  {
   "cell_type": "code",
   "execution_count": 12,
   "id": "36b95372",
   "metadata": {},
   "outputs": [
    {
     "name": "stdout",
     "output_type": "stream",
     "text": [
      "Enter the Number of inputs::5\n",
      "enter the list1 2 3 4\n",
      "enter the list\n",
      "enter the list3 4\n",
      "enter the list4 56\n",
      "enter the list4 3\n",
      "the final list after remove Empty list:: [[1, 2, 3, 4], [3, 4], [4, 56], [4, 3]]\n"
     ]
    }
   ],
   "source": [
    "def Remove_empty(Value):\n",
    "    List=[]\n",
    "    for i in range(Value):\n",
    "        Ip=list(map(int,input(\"enter the list:::\").split()))\n",
    "        List.append(Ip)\n",
    "    for i in List:\n",
    "        if len(i)==0:\n",
    "            List.remove(i)\n",
    "        else:\n",
    "            pass\n",
    "    print(\"the final list after remove Empty list::\",List)\n",
    "    \n",
    "    \n",
    "Value=int(input(\"Enter the Number of inputs::\"))\n",
    "Remove_empty(Value)\n"
   ]
  },
  {
   "cell_type": "markdown",
   "id": "063d006f",
   "metadata": {},
   "source": [
    "# 10.\tWrite a Python program to Cloning or Copying a list?"
   ]
  },
  {
   "cell_type": "code",
   "execution_count": null,
   "id": "0d2ace81",
   "metadata": {},
   "outputs": [],
   "source": [
    "Ip=list(map(int,input(\"enter the list:::\").split()))\n",
    "#deep copy\n",
    "Ip1=Ip\n",
    "#shlow copy\n",
    "Ip2=Ip.copy()\n",
    "print(Ip1)\n",
    "print(Ip2)"
   ]
  },
  {
   "cell_type": "markdown",
   "id": "a8f890f1",
   "metadata": {},
   "source": [
    "# 11.\tWrite a Python program to Count occurrences of an element in a list?"
   ]
  },
  {
   "cell_type": "code",
   "execution_count": 14,
   "id": "a2431c15",
   "metadata": {},
   "outputs": [
    {
     "name": "stdout",
     "output_type": "stream",
     "text": [
      "Enter the Number of inputs::1 2 1 2 4 5 3 5 \n",
      "the Dictonary of Count:: {1: 2, 2: 2, 4: 1, 5: 2, 3: 1}\n"
     ]
    }
   ],
   "source": [
    "def Count_occurrences(Value):\n",
    "    d={}\n",
    "    for i in Value:\n",
    "        Number=Value.count(i)\n",
    "        d[i]=Number\n",
    "    print(\"the Dictonary of Count::\",d)   \n",
    "Value=list(map(int,input(\"Enter the Number of inputs::\").split()))\n",
    "Count_occurrences(Value)"
   ]
  },
  {
   "cell_type": "code",
   "execution_count": null,
   "id": "2f2f1343",
   "metadata": {},
   "outputs": [],
   "source": []
  }
 ],
 "metadata": {
  "kernelspec": {
   "display_name": "Python 3",
   "language": "python",
   "name": "python3"
  },
  "language_info": {
   "codemirror_mode": {
    "name": "ipython",
    "version": 3
   },
   "file_extension": ".py",
   "mimetype": "text/x-python",
   "name": "python",
   "nbconvert_exporter": "python",
   "pygments_lexer": "ipython3",
   "version": "3.8.8"
  }
 },
 "nbformat": 4,
 "nbformat_minor": 5
}
