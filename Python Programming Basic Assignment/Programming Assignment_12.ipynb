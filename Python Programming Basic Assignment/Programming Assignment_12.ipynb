{
 "cells": [
  {
   "cell_type": "markdown",
   "id": "02d1a3e9",
   "metadata": {},
   "source": [
    "# 1.\tWrite a Python program to Extract Unique values dictionary values?"
   ]
  },
  {
   "cell_type": "code",
   "execution_count": 3,
   "id": "ae6c9557",
   "metadata": {},
   "outputs": [
    {
     "name": "stdout",
     "output_type": "stream",
     "text": [
      "{1, 2, 5}\n"
     ]
    }
   ],
   "source": [
    "Dic={'Soumya':1,'pand':2,'gdjg':5,'gh':1}\n",
    "List=Dic.values()\n",
    "print(set(List))"
   ]
  },
  {
   "cell_type": "markdown",
   "id": "387f65da",
   "metadata": {},
   "source": [
    "# 2.\tWrite a Python program to find the sum of all items in a dictionary?"
   ]
  },
  {
   "cell_type": "code",
   "execution_count": 4,
   "id": "d20303aa",
   "metadata": {},
   "outputs": [
    {
     "name": "stdout",
     "output_type": "stream",
     "text": [
      "Sumation of values::: 9\n"
     ]
    }
   ],
   "source": [
    "Dic={'Soumya':1,'pand':2,'gdjg':5,'gh':1}\n",
    "List=Dic.values()\n",
    "print(\"Sumation of values:::\",sum(List))"
   ]
  },
  {
   "cell_type": "markdown",
   "id": "2a3b89cf",
   "metadata": {},
   "source": [
    "# 3.\tWrite a Python program to Merging two Dictionaries?"
   ]
  },
  {
   "cell_type": "code",
   "execution_count": 5,
   "id": "dfbfe5bd",
   "metadata": {},
   "outputs": [
    {
     "name": "stdout",
     "output_type": "stream",
     "text": [
      "Merge Dict::: {'Soumya': 1, 'pand': 2, 'gdjg': 5, 'gh': 1, 'hd': 1, 'pd': 2, 'gg': 5}\n"
     ]
    }
   ],
   "source": [
    "Dic1={'Soumya':1,'pand':2,'gdjg':5,'gh':1}\n",
    "Dic2={'hd':1,'pd':2,'gg':5,'gh':1}\n",
    "Dic1.update(Dic2)\n",
    "print(\"Merge Dict:::\",Dic1)"
   ]
  },
  {
   "cell_type": "markdown",
   "id": "346bd2d6",
   "metadata": {},
   "source": [
    "# 4.\tWrite a Python program to convert key-values list to flat dictionary?"
   ]
  },
  {
   "cell_type": "code",
   "execution_count": 6,
   "id": "b48a769a",
   "metadata": {},
   "outputs": [
    {
     "name": "stdout",
     "output_type": "stream",
     "text": [
      "dict_items([('Soumya', 1), ('pand', 2), ('gdjg', 5), ('gh', 1)])\n"
     ]
    }
   ],
   "source": [
    "Dic1={'Soumya':1,'pand':2,'gdjg':5,'gh':1}\n",
    "List=Dic1.items()\n",
    "print(List)"
   ]
  },
  {
   "cell_type": "markdown",
   "id": "9e2407ad",
   "metadata": {},
   "source": [
    "# 5.\tWrite a Python program to insertion at the beginning in OrderedDict?"
   ]
  },
  {
   "cell_type": "code",
   "execution_count": 15,
   "id": "06ac262d",
   "metadata": {},
   "outputs": [
    {
     "name": "stdout",
     "output_type": "stream",
     "text": [
      "enter the nuber of update :: 2\n",
      "enter key :: fo\n",
      "enter value ::32\n",
      "enter key :: of\n",
      "enter value ::34\n",
      "OrderedDict([('of', '34'), ('fo', '32'), ('Soumya', 1), ('pand', 2), ('gdjg', 5), ('gh', 1)])\n"
     ]
    }
   ],
   "source": [
    "from collections import OrderedDict\n",
    "Dict1={'Soumya':1,'pand':2,'gdjg':5,'ah':1}\n",
    "my_Dict=OrderedDict(Dict1)\n",
    "N=int(input(\"enter the nuber of update :: \"))\n",
    "temp={}\n",
    "for i in range(N):\n",
    "    key=input(\"enter key :: \")\n",
    "    Value=input(\"enter value ::\")\n",
    "    my_Dict.update({key:Value})\n",
    "    my_Dict.move_to_end(key,last=False)\n",
    "print(my_Dict)"
   ]
  },
  {
   "cell_type": "markdown",
   "id": "18ceff0e",
   "metadata": {},
   "source": [
    "# 6.\tWrite a Python program to check order of character in string using OrderedDict()?"
   ]
  },
  {
   "cell_type": "code",
   "execution_count": 26,
   "id": "2f942b0d",
   "metadata": {},
   "outputs": [
    {
     "name": "stdout",
     "output_type": "stream",
     "text": [
      "Enter a stringsou\n",
      "OrderedDict([('s', 115), ('o', 111), ('u', 117)])\n"
     ]
    }
   ],
   "source": [
    "from collections import OrderedDict\n",
    "IP=input(\"Enter a string\")\n",
    "IP1=list(IP)\n",
    "my_dict=OrderedDict()\n",
    "for i in IP1:\n",
    "    my_dict[i]=ord(i)\n",
    "print(my_dict)\n"
   ]
  },
  {
   "cell_type": "markdown",
   "id": "91f08701",
   "metadata": {},
   "source": [
    "# 7.\tWrite a Python program to sort Python Dictionaries by Key or Value?"
   ]
  },
  {
   "cell_type": "code",
   "execution_count": 27,
   "id": "e2e281c7",
   "metadata": {},
   "outputs": [
    {
     "name": "stdout",
     "output_type": "stream",
     "text": [
      "OrderedDict([('ah', 1), ('g', 5), ('pand', 2), ('soumya', 10)])\n"
     ]
    }
   ],
   "source": [
    "from collections import OrderedDict\n",
    "Dict1={'soumya':10,'pand':2,'g':5,'ah':1}\n",
    "OP=OrderedDict(sorted(Dict1.items()))\n",
    "print(OP)"
   ]
  },
  {
   "cell_type": "code",
   "execution_count": 1,
   "id": "0fcddb4b",
   "metadata": {},
   "outputs": [
    {
     "name": "stdout",
     "output_type": "stream",
     "text": [
      "[('ah', 1), ('pand', 2), ('g', 5), ('soumya', 10)]\n"
     ]
    }
   ],
   "source": [
    "#sort by value\n",
    "Dict1={'soumya':10,'pand':2,'g':5,'ah':1}\n",
    "OP=sorted(Dict1.items(),key=lambda ke:(ke[1],ke[0]))\n",
    "print(OP)"
   ]
  },
  {
   "cell_type": "code",
   "execution_count": null,
   "id": "c2bf1742",
   "metadata": {},
   "outputs": [],
   "source": []
  }
 ],
 "metadata": {
  "kernelspec": {
   "display_name": "Python 3",
   "language": "python",
   "name": "python3"
  },
  "language_info": {
   "codemirror_mode": {
    "name": "ipython",
    "version": 3
   },
   "file_extension": ".py",
   "mimetype": "text/x-python",
   "name": "python",
   "nbconvert_exporter": "python",
   "pygments_lexer": "ipython3",
   "version": "3.8.8"
  }
 },
 "nbformat": 4,
 "nbformat_minor": 5
}
