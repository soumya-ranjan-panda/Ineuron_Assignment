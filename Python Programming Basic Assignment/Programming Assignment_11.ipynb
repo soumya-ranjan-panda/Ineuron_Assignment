{
 "cells": [
  {
   "cell_type": "markdown",
   "id": "5b878939",
   "metadata": {},
   "source": [
    "# 1.\tWrite a Python program to find words which are greater than given length k?"
   ]
  },
  {
   "cell_type": "code",
   "execution_count": 1,
   "id": "10e7035e",
   "metadata": {},
   "outputs": [
    {
     "name": "stdout",
     "output_type": "stream",
     "text": [
      "Enter a Senterce :: soumya ran panda\n",
      "Enter the target length :: 3\n",
      "All The Greater word are::: ['soumya', 'panda']\n"
     ]
    }
   ],
   "source": [
    "def Find_word(Value,Length):\n",
    "    List=[]\n",
    "    Value=Value.split(' ')\n",
    "    for i in Value:\n",
    "        if len(i)>Length:\n",
    "            List.append(i)\n",
    "        else:\n",
    "            pass\n",
    "    print(\"All The Greater word are:::\",List)\n",
    "Value=input(\"Enter a Senterce :: \")\n",
    "Length=int(input(\"Enter the target length :: \"))\n",
    "Find_word(Value,Length)\n",
    "\n",
    "    "
   ]
  },
  {
   "cell_type": "markdown",
   "id": "94258e2b",
   "metadata": {},
   "source": [
    "# 2.\tWrite a Python program for removing i-th character from a string?"
   ]
  },
  {
   "cell_type": "code",
   "execution_count": 3,
   "id": "8fcf10c3",
   "metadata": {},
   "outputs": [
    {
     "name": "stdout",
     "output_type": "stream",
     "text": [
      "Enter a sentence :: soumya ranjan \n",
      "Enter the Position :: 2\n",
      "After Remove the string is :::: somya ranjan \n"
     ]
    }
   ],
   "source": [
    "def removing_Character(Value,Position):\n",
    "    List=[]\n",
    "    List=list(Value)\n",
    "    List.pop(Position)\n",
    "    New_Str=('').join(List)\n",
    "    print(\"After Remove the string is ::::\",New_Str)\n",
    "Value=input(\"Enter a sentence :: \")\n",
    "Position=int(input(\"Enter the Position :: \"))\n",
    "removing_Character(Value,Position)"
   ]
  },
  {
   "cell_type": "markdown",
   "id": "536541a5",
   "metadata": {},
   "source": [
    "# 3.\tWrite a Python program to split and join a string?"
   ]
  },
  {
   "cell_type": "code",
   "execution_count": 4,
   "id": "58ccc8d5",
   "metadata": {},
   "outputs": [
    {
     "name": "stdout",
     "output_type": "stream",
     "text": [
      "Enter a sentence new python prog\n",
      "After split the String is ::  ['new', 'python', 'prog']\n",
      "After join the string is :::: new python prog\n"
     ]
    }
   ],
   "source": [
    "def split_Character(Value):\n",
    "    List=Value.split(' ')\n",
    "    print(\"After split the String is :: \",List)\n",
    "    return List\n",
    "def join_Character(List):\n",
    "    New_str=' '\n",
    "    New_str=(' ').join(List)\n",
    "    print(\"After join the string is ::::\",New_str)\n",
    "Value=input(\"Enter a sentence \")\n",
    "Sp1=split_Character(Value)\n",
    "join_Character(Sp1)\n"
   ]
  },
  {
   "cell_type": "markdown",
   "id": "ae6bc03d",
   "metadata": {},
   "source": [
    "# 4.\tWrite a Python to check if a given string is binary string or not?"
   ]
  },
  {
   "cell_type": "code",
   "execution_count": 5,
   "id": "b6fab54b",
   "metadata": {},
   "outputs": [
    {
     "name": "stdout",
     "output_type": "stream",
     "text": [
      "Enter a string check for Binary or not :: 010101\n",
      "String ::010101:: is a Binary string\n"
     ]
    }
   ],
   "source": [
    "def Binary_string(Value):\n",
    "    List=list(Value)\n",
    "    flag=0\n",
    "    for i in List:\n",
    "        if i=='0' or i=='1':\n",
    "            pass\n",
    "        else:\n",
    "            print(\"String ::{}:: is not a Binary string\".format(Value))\n",
    "            flag=1\n",
    "            break\n",
    "    if flag==0:\n",
    "        print(\"String ::{}:: is a Binary string\".format(Value))\n",
    "    else:\n",
    "        pass\n",
    "Value=input(\"Enter a string check for Binary or not :: \")\n",
    "Binary_string(Value)\n"
   ]
  },
  {
   "cell_type": "markdown",
   "id": "d6e2b9c7",
   "metadata": {},
   "source": [
    "# 5.\tWrite a Python program to find uncommon words from two Strings?"
   ]
  },
  {
   "cell_type": "code",
   "execution_count": 7,
   "id": "5684f487",
   "metadata": {},
   "outputs": [
    {
     "name": "stdout",
     "output_type": "stream",
     "text": [
      "Enter a first sentence :::soumya ranjan panda\n",
      "Enter a second sentence :::soumya kumar sahu\n",
      "After  Uncommon word is :::: ['ranjan', 'panda', 'kumar', 'sahu']\n"
     ]
    }
   ],
   "source": [
    "def Finding_Uncommon_word(Value1,Value2):\n",
    "    List1=[]\n",
    "    List2=[]\n",
    "    New_list=[]\n",
    "    List1=Value1.split(' ')\n",
    "    List2=Value2.split(' ')\n",
    "    for i in List1:\n",
    "        if i not in List2:\n",
    "            New_list.append(i)\n",
    "        else:\n",
    "            for j in range(List2.count(i)):\n",
    "                List2.remove(i)\n",
    "    New_list.extend(List2)\n",
    "    print(\"After  Uncommon word is ::::\",New_list)\n",
    "Value1=input(\"Enter a first sentence :::\")\n",
    "Value2=input(\"Enter a second sentence :::\")\n",
    "Finding_Uncommon_word(Value1,Value2)\n"
   ]
  },
  {
   "cell_type": "markdown",
   "id": "4e7689fb",
   "metadata": {},
   "source": [
    "# 6.\tWrite a Python to find all duplicate characters in string?"
   ]
  },
  {
   "cell_type": "code",
   "execution_count": 8,
   "id": "768a05cb",
   "metadata": {},
   "outputs": [
    {
     "name": "stdout",
     "output_type": "stream",
     "text": [
      "Enter a sentence :::sssooohkjkj\n",
      "After Remove the Duplicate char is :::: hskjo\n"
     ]
    }
   ],
   "source": [
    "def removing_Duplicate_Character(Value):\n",
    "    List=[]\n",
    "    List=list(set(list(Value)))\n",
    "    New_Str=('').join(List)\n",
    "    print(\"After Remove the Duplicate char is ::::\",New_Str)\n",
    "Value=input(\"Enter a sentence :::\")\n",
    "removing_Duplicate_Character(Value)\n"
   ]
  },
  {
   "cell_type": "markdown",
   "id": "893937cc",
   "metadata": {},
   "source": [
    "# 7.\tWrite a Python Program to check if a string contains any special character?"
   ]
  },
  {
   "cell_type": "code",
   "execution_count": 9,
   "id": "3a78dd31",
   "metadata": {},
   "outputs": [
    {
     "name": "stdout",
     "output_type": "stream",
     "text": [
      "Enter a sentence ::: ggjgdhsgj66667777&&&&\n",
      "After Remove the special char is :::: ggjgdhsgj66667777\n"
     ]
    }
   ],
   "source": [
    "def removing_Special_Character(Value):\n",
    "    List=[]\n",
    "    New_List=[]\n",
    "    List=list(Value)\n",
    "    #print(List)\n",
    "    count=len(List)\n",
    "    for i in List:\n",
    "        #print(List[i])\n",
    "        if (ord(i)>=65 and ord(i)<=90)or(ord(i)>=97 and ord(i)<=122)or(ord(i)>=48 and ord(i)<=57):\n",
    "            New_List.append(i)\n",
    "        else:\n",
    "            pass\n",
    "    New_Str=('').join(New_List)\n",
    "    print(\"After Remove the special char is ::::\",New_Str)\n",
    "Value=input(\"Enter a sentence ::: \")\n",
    "removing_Special_Character(Value)\n"
   ]
  },
  {
   "cell_type": "code",
   "execution_count": null,
   "id": "ca79f0ba",
   "metadata": {},
   "outputs": [],
   "source": []
  }
 ],
 "metadata": {
  "kernelspec": {
   "display_name": "Python 3",
   "language": "python",
   "name": "python3"
  },
  "language_info": {
   "codemirror_mode": {
    "name": "ipython",
    "version": 3
   },
   "file_extension": ".py",
   "mimetype": "text/x-python",
   "name": "python",
   "nbconvert_exporter": "python",
   "pygments_lexer": "ipython3",
   "version": "3.8.8"
  }
 },
 "nbformat": 4,
 "nbformat_minor": 5
}
