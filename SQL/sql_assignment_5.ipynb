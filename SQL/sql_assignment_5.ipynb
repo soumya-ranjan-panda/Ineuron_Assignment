{
 "cells": [
  {
   "cell_type": "markdown",
   "id": "1a09e19e",
   "metadata": {},
   "source": [
    "# SQL ASSIGNMENT 5"
   ]
  },
  {
   "cell_type": "markdown",
   "id": "e63ab586",
   "metadata": {},
   "source": [
    "Q-1. Write an SQL query to print details of workers excluding first names, “Vipul” and “Satish” from Worker table."
   ]
  },
  {
   "cell_type": "markdown",
   "id": "0a63597f",
   "metadata": {},
   "source": [
    "Ans: SELECT * FROM Worker WHERE FIRST_NAME NOT IN(\"Vipul\", \"Satish\");"
   ]
  },
  {
   "cell_type": "markdown",
   "id": "d906c20b",
   "metadata": {},
   "source": [
    "Q-2. Write an SQL query to print details of the Workers whose FIRST_NAME ends with ‘h’ and contains six alphabets."
   ]
  },
  {
   "cell_type": "markdown",
   "id": "83331616",
   "metadata": {},
   "source": [
    "Ans: SELECT * FROM Worker ORDER BY FIRST_NAME ASC, DEPARTMENT DESC;"
   ]
  },
  {
   "cell_type": "markdown",
   "id": "c0a1f0ea",
   "metadata": {},
   "source": [
    "Q-3. Write an SQL query to fetch the names of workers who earn the highest salary."
   ]
  },
  {
   "cell_type": "markdown",
   "id": "104228d5",
   "metadata": {},
   "source": [
    "Ans: SELECT * FROM Worker WHERE FIRST_NAME LIKE \"_____h\";"
   ]
  }
 ],
 "metadata": {
  "kernelspec": {
   "display_name": "Python 3 (ipykernel)",
   "language": "python",
   "name": "python3"
  },
  "language_info": {
   "codemirror_mode": {
    "name": "ipython",
    "version": 3
   },
   "file_extension": ".py",
   "mimetype": "text/x-python",
   "name": "python",
   "nbconvert_exporter": "python",
   "pygments_lexer": "ipython3",
   "version": "3.9.7"
  }
 },
 "nbformat": 4,
 "nbformat_minor": 5
}
