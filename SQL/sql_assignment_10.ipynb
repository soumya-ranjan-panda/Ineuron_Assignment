{
 "cells": [
  {
   "cell_type": "markdown",
   "id": "1a09e19e",
   "metadata": {},
   "source": [
    "# SQL ASSIGNMENT 10"
   ]
  },
  {
   "cell_type": "markdown",
   "id": "e63ab586",
   "metadata": {},
   "source": [
    "Q-1. Write an SQL query to determine the 5th highest salary without using TOP or limit method."
   ]
  },
  {
   "cell_type": "markdown",
   "id": "0a63597f",
   "metadata": {},
   "source": [
    "SELECT DISTINCT current_salary FROM Salary_History ORDER BY current_salary DESC OFFSET 4 ROWS FETCH NEXT 1 ROWS ONLY"
   ]
  },
  {
   "cell_type": "markdown",
   "id": "d906c20b",
   "metadata": {},
   "source": [
    "Q-2. Write an SQL query to fetch the list of employees with the same salary."
   ]
  },
  {
   "cell_type": "markdown",
   "id": "83331616",
   "metadata": {},
   "source": [
    "SELECT EMI1.EMP_NAME FROM EMPLOYEES EMP1 JOIN EMPLOYEES EMP2 ON EMP1.EMP_ID <> EMP2.EMP_ID AND EMP1.SALARY = EMP2.SALARY"
   ]
  }
 ],
 "metadata": {
  "kernelspec": {
   "display_name": "Python 3 (ipykernel)",
   "language": "python",
   "name": "python3"
  },
  "language_info": {
   "codemirror_mode": {
    "name": "ipython",
    "version": 3
   },
   "file_extension": ".py",
   "mimetype": "text/x-python",
   "name": "python",
   "nbconvert_exporter": "python",
   "pygments_lexer": "ipython3",
   "version": "3.9.7"
  }
 },
 "nbformat": 4,
 "nbformat_minor": 5
}
