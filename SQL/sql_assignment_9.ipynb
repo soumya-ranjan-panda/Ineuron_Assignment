{
 "cells": [
  {
   "cell_type": "markdown",
   "id": "1a09e19e",
   "metadata": {},
   "source": [
    "# SQL ASSIGNMENT 9"
   ]
  },
  {
   "cell_type": "markdown",
   "id": "e63ab586",
   "metadata": {},
   "source": [
    "Q-1. Write an SQL query to show the top n (say 10) records of a table."
   ]
  },
  {
   "cell_type": "markdown",
   "id": "0a63597f",
   "metadata": {},
   "source": [
    "SELECT TOP 10 * FROM users"
   ]
  },
  {
   "cell_type": "markdown",
   "id": "d906c20b",
   "metadata": {},
   "source": [
    "Q-2. Write an SQL query to determine the nth (say n=5) highest salary from a table."
   ]
  },
  {
   "cell_type": "markdown",
   "id": "83331616",
   "metadata": {},
   "source": [
    "(offset should be n-1)\n",
    "\n",
    "SELECT DISTINCT current_salary FROM Salary_History ORDER BY current_salary DESC OFFSET 4 ROWS FETCH NEXT 1 ROWS ONLY"
   ]
  },
  {
   "cell_type": "code",
   "execution_count": null,
   "id": "a8ceaab5",
   "metadata": {},
   "outputs": [],
   "source": []
  }
 ],
 "metadata": {
  "kernelspec": {
   "display_name": "Python 3 (ipykernel)",
   "language": "python",
   "name": "python3"
  },
  "language_info": {
   "codemirror_mode": {
    "name": "ipython",
    "version": 3
   },
   "file_extension": ".py",
   "mimetype": "text/x-python",
   "name": "python",
   "nbconvert_exporter": "python",
   "pygments_lexer": "ipython3",
   "version": "3.9.7"
  }
 },
 "nbformat": 4,
 "nbformat_minor": 5
}
