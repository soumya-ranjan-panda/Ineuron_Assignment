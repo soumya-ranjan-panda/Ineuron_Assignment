{
 "cells": [
  {
   "cell_type": "markdown",
   "id": "1a09e19e",
   "metadata": {},
   "source": [
    "# SQL ASSIGNMENT 4"
   ]
  },
  {
   "cell_type": "markdown",
   "id": "e63ab586",
   "metadata": {},
   "source": [
    "Q-1. Write an SQL query to print the FIRST_NAME from Worker table after replacing ‘a’\n",
    "with ‘A’."
   ]
  },
  {
   "cell_type": "markdown",
   "id": "0a63597f",
   "metadata": {},
   "source": [
    "Ans: SELECT REPLACE(FIRST_NAME, 'a', 'A') AS FIRST_NAME FROM Worker;"
   ]
  },
  {
   "cell_type": "markdown",
   "id": "d906c20b",
   "metadata": {},
   "source": [
    "Q-2. Write an SQL query to print all Worker details from the Worker table order by FIRST_NAME Ascending and DEPARTMENT Descending."
   ]
  },
  {
   "cell_type": "markdown",
   "id": "83331616",
   "metadata": {},
   "source": [
    "Ans: SELECT * FROM Worker ORDER BY FIRST_NAME ASC, DEPARTMENT DESC;"
   ]
  },
  {
   "cell_type": "markdown",
   "id": "c0a1f0ea",
   "metadata": {},
   "source": [
    "Q-3. Write an SQL query to fetch the names of workers who earn the highest salary."
   ]
  },
  {
   "cell_type": "markdown",
   "id": "104228d5",
   "metadata": {},
   "source": [
    "Ans: SELECT FIRST_NAME FROM Worker WHERE SALARY IN (SELECT MAX(SALARY) FROM Worker);"
   ]
  },
  {
   "cell_type": "code",
   "execution_count": null,
   "id": "a8ceaab5",
   "metadata": {},
   "outputs": [],
   "source": []
  }
 ],
 "metadata": {
  "kernelspec": {
   "display_name": "Python 3 (ipykernel)",
   "language": "python",
   "name": "python3"
  },
  "language_info": {
   "codemirror_mode": {
    "name": "ipython",
    "version": 3
   },
   "file_extension": ".py",
   "mimetype": "text/x-python",
   "name": "python",
   "nbconvert_exporter": "python",
   "pygments_lexer": "ipython3",
   "version": "3.9.7"
  }
 },
 "nbformat": 4,
 "nbformat_minor": 5
}
