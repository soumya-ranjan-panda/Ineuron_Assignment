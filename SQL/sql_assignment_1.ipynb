{
 "cells": [
  {
   "cell_type": "markdown",
   "id": "7e34e1d0",
   "metadata": {},
   "source": [
    "# SQL ASSIGNMENT 1"
   ]
  },
  {
   "cell_type": "markdown",
   "id": "44fecd45",
   "metadata": {},
   "source": [
    "Q-1. Write an SQL query to fetch “FIRST_NAME” from Worker table using the alias name as "
   ]
  },
  {
   "cell_type": "markdown",
   "id": "aa240d83",
   "metadata": {},
   "source": [
    "Ans: SELECT FIRST_NAME AS WORKER_NAME FROM FROM Worker;"
   ]
  },
  {
   "cell_type": "markdown",
   "id": "9cc961a9",
   "metadata": {},
   "source": [
    "Q-2. Write an SQL query to fetch unique values of DEPARTMENT from Worker table."
   ]
  },
  {
   "cell_type": "markdown",
   "id": "fae12ba8",
   "metadata": {},
   "source": [
    "Ans: SELECT DISTINCT DEPARTMENT FROM Worker;"
   ]
  },
  {
   "cell_type": "markdown",
   "id": "8d1672ec",
   "metadata": {},
   "source": [
    "Q-3. Write an SQL query to show the last 5 record from a table."
   ]
  },
  {
   "cell_type": "markdown",
   "id": "4c57d36c",
   "metadata": {},
   "source": [
    "Ans: GET ROW COUNT FIRST, N= SELECT COUNT(*) FROM TABLE;\n",
    "\n",
    "SELECT * FROM TABLE LIMIT 5 OFFSET N-1;"
   ]
  },
  {
   "cell_type": "code",
   "execution_count": null,
   "id": "c6ba2c6a",
   "metadata": {},
   "outputs": [],
   "source": []
  }
 ],
 "metadata": {
  "kernelspec": {
   "display_name": "Python 3 (ipykernel)",
   "language": "python",
   "name": "python3"
  },
  "language_info": {
   "codemirror_mode": {
    "name": "ipython",
    "version": 3
   },
   "file_extension": ".py",
   "mimetype": "text/x-python",
   "name": "python",
   "nbconvert_exporter": "python",
   "pygments_lexer": "ipython3",
   "version": "3.9.7"
  }
 },
 "nbformat": 4,
 "nbformat_minor": 5
}
