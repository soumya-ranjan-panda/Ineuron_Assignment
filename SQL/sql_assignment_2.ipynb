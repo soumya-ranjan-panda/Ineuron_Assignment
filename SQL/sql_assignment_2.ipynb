{
 "cells": [
  {
   "cell_type": "markdown",
   "id": "1a09e19e",
   "metadata": {},
   "source": [
    "# SQL ASSIGNMENT 2"
   ]
  },
  {
   "cell_type": "markdown",
   "id": "e63ab586",
   "metadata": {},
   "source": [
    "Q-1. Write an SQL query to print the first three characters of  FIRST_NAME from Worker\n",
    "table."
   ]
  },
  {
   "cell_type": "markdown",
   "id": "0a63597f",
   "metadata": {},
   "source": [
    "Ans: SELECT LEFT(FIRST_NAME,3) FROM Worker;"
   ]
  },
  {
   "cell_type": "markdown",
   "id": "d906c20b",
   "metadata": {},
   "source": [
    "Q-2. Write an SQL query to find the position of the alphabet (‘a’) in the first name column ‘Amitabh’ from Worker table."
   ]
  },
  {
   "cell_type": "markdown",
   "id": "83331616",
   "metadata": {},
   "source": [
    "Ans: SELECT POSITION('a' in FIRST_NAME) FROM Worker;"
   ]
  },
  {
   "cell_type": "markdown",
   "id": "f7ba4c09",
   "metadata": {},
   "source": [
    "Q-3. Write an SQL query to print the name of employees having the highest salary in each department."
   ]
  },
  {
   "cell_type": "markdown",
   "id": "d83800d5",
   "metadata": {},
   "source": [
    "Ans: SELECT FIRST_NAME FROM Worker WHERE (DEPARTMENT, SALARY) IN (SELECT DEPARTMENT, MAX(SALARY) FROM Worker GROUP BY DEPARTMENT);"
   ]
  },
  {
   "cell_type": "code",
   "execution_count": null,
   "id": "94a155d1",
   "metadata": {},
   "outputs": [],
   "source": []
  }
 ],
 "metadata": {
  "kernelspec": {
   "display_name": "Python 3 (ipykernel)",
   "language": "python",
   "name": "python3"
  },
  "language_info": {
   "codemirror_mode": {
    "name": "ipython",
    "version": 3
   },
   "file_extension": ".py",
   "mimetype": "text/x-python",
   "name": "python",
   "nbconvert_exporter": "python",
   "pygments_lexer": "ipython3",
   "version": "3.9.7"
  }
 },
 "nbformat": 4,
 "nbformat_minor": 5
}
