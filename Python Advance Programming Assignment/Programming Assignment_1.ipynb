{
 "cells": [
  {
   "cell_type": "markdown",
   "id": "a5c7fc40",
   "metadata": {},
   "source": [
    "# 1"
   ]
  },
  {
   "cell_type": "code",
   "execution_count": 25,
   "id": "88e4283b",
   "metadata": {},
   "outputs": [
    {
     "name": "stdout",
     "output_type": "stream",
     "text": [
      "enter the number of input required :: 2\n",
      "input Enter comma separated words in a list :: \"#\",\"!\"\n",
      "input Enter comma separated words in a list :: \"!!\",\"X\"\n",
      "check_score[['\"#\"', '\"!\"'], ['\"!!\"', '\"X\"']]-->2\n"
     ]
    }
   ],
   "source": [
    "def check_score(Value):\n",
    "    d={'#':5,'O':3,'X':1,'!':-1,'!!':-3,'!!!':-5}\n",
    "    tot=0\n",
    "    for i in Value:\n",
    "        for j in i:\n",
    "            j=j.strip('\"')\n",
    "            tot+=d[j]\n",
    "    if tot<0:\n",
    "        return 0\n",
    "    else:\n",
    "        return tot\n",
    "Num=int(input(\"enter the number of input required :: \"))\n",
    "Value=[]\n",
    "for i in range(Num):\n",
    "    Value1=list(map(str,input(\"input Enter comma separated words in a list :: \").split(',')))\n",
    "    Value.append(Value1)\n",
    "Final=check_score(Value)\n",
    "print(\"check_score{}-->{}\".format(Value,Final))\n",
    "\n",
    "\n",
    "        "
   ]
  },
  {
   "cell_type": "markdown",
   "id": "c40b3b03",
   "metadata": {},
   "source": [
    "# 2"
   ]
  },
  {
   "cell_type": "code",
   "execution_count": 50,
   "id": "8b9541fb",
   "metadata": {},
   "outputs": [
    {
     "name": "stdout",
     "output_type": "stream",
     "text": [
      "Enter the comm separated integer value ::: 2,3\n",
      "Comabation(2, 3)-->6\n"
     ]
    }
   ],
   "source": [
    "def Comabation(*args):\n",
    "    Mul=1\n",
    "    for i in args:\n",
    "        Mul*=i\n",
    "    return Mul\n",
    "Num=list(map(int,input(\"Enter the comm separated integer value ::: \").split(',')))\n",
    "OP=Comabation(*LIST)\n",
    "print(\"Comabation{}-->{}\".format(tuple(LIST),OP))\n",
    "\n"
   ]
  },
  {
   "cell_type": "markdown",
   "id": "94a5a4b2",
   "metadata": {},
   "source": [
    "# 3"
   ]
  },
  {
   "cell_type": "code",
   "execution_count": 35,
   "id": "01a95e2b",
   "metadata": {},
   "outputs": [
    {
     "name": "stdout",
     "output_type": "stream",
     "text": [
      "Enter A String:::\"HELP ME !\"\n",
      "encode_morse(\"HELP ME !\")-->\"......-...--. --. -.-.--\"\n"
     ]
    }
   ],
   "source": [
    "def encode_morse(Value):\n",
    "    char_to_dots = {'A': '.-', 'B': '-...', 'C': '-.-.', 'D': '-..', 'E': '.', 'F': '..-.','G': '--.', 'H': '....', 'I': '..', 'J': '.---', 'K': '-.-', 'L': '.-..','M': '--', 'N': '-.', 'O': '---', 'P': '.--.', 'Q': '--.-', 'R': '.-.','S': '...', 'T': '-', 'U': '..-', 'V': '...-', 'W': '.--', 'X': '-..-','Y': '-.--', 'Z': '--..', ' ': ' ', '0': '-----','1': '.----', '2': '..---', '3': '...--', '4': '....-', '5': '.....','6': '-....', '7': '--...', '8': '---..', '9': '----.','&': '.-...', \"'\": '.----.', '@': '.--.-.', ')': '-.--.-', '(': '-.--.',':': '---...', ',': '--..--', '=': '-...-', '!': '-.-.--', '.': '.-.-.-','-': '-....-', '+': '.-.-.', '\"': '.-..-.', '?': '..--..', '/': '-..-.'}\n",
    "    List=list(Value.strip('\"'))\n",
    "    New_List=[]\n",
    "    for i in List:\n",
    "        New_List.append(char_to_dots[i])\n",
    "    Final=('').join(New_List)\n",
    "    return Final\n",
    "Value=input(\"Enter A String:::\")\n",
    "OP=encode_morse(Value)\n",
    "\n",
    "print(\"encode_morse({})-->\\\"{}\\\"\".format(Value,OP))\n",
    "\n"
   ]
  },
  {
   "cell_type": "markdown",
   "id": "abcb2c31",
   "metadata": {},
   "source": [
    "4.  Write a function that takes a number and returns True if it's a prime; False otherwise. The number can be 2^64-1 (2 to the power of 63, not XOR). With the standard technique it would be O(2^64-1), which is much too large for the 10 second time limit.\n",
    "\n",
    "Examples\n",
    "\n",
    "prime(7) ➞ True\n",
    "\n",
    "prime(56963) ➞ True\n",
    "\n",
    "prime(5151512515524) ➞ False\n"
   ]
  },
  {
   "cell_type": "code",
   "execution_count": null,
   "id": "78b1c6f1",
   "metadata": {},
   "outputs": [],
   "source": [
    "def prime(value):\n",
    "    num=value//2\n",
    "    cnt=0\n",
    "    for i in range(1,num+1):\n",
    "        if value%i == 0:\n",
    "            cnt+=1\n",
    "        else:\n",
    "            pass\n",
    "    if cnt==1:\n",
    "        return True\n",
    "    else:\n",
    "        return False\n",
    "import pyinputplus as pypi\n",
    "value = pypi.inputInt()\n",
    "op=prime(value)\n",
    "print(\"Prime({})-->({})\".format(value,op))\n",
    "        "
   ]
  },
  {
   "cell_type": "markdown",
   "id": "aaecc3ae",
   "metadata": {},
   "source": [
    "# 5"
   ]
  },
  {
   "cell_type": "code",
   "execution_count": 41,
   "id": "8f795cc9",
   "metadata": {},
   "outputs": [
    {
     "name": "stdout",
     "output_type": "stream",
     "text": [
      "enter the word ::: \"deep\"\n",
      "to_boolean_list(\"deep\")-->[False, True, True, False]\n"
     ]
    }
   ],
   "source": [
    "def to_boolean_list(Value):\n",
    "    New_list=list(Value.strip('\"'))\n",
    "    for i in range(len(New_list)):\n",
    "        if ord(New_list[i])%2==0:\n",
    "            New_list[i]=0\n",
    "        else:\n",
    "            New_list[i]=1\n",
    "    for j in range(len(New_list)):\n",
    "        if New_list[j]==0:\n",
    "            New_list[j]=False\n",
    "        else:\n",
    "            New_list[j]=True\n",
    "    return New_list\n",
    "Value=input(\"enter the word ::: \")\n",
    "op=to_boolean_list(Value)\n",
    "\n",
    "print(\"to_boolean_list({})-->{}\".format(Value,op))\n"
   ]
  },
  {
   "cell_type": "code",
   "execution_count": null,
   "id": "5068faa7",
   "metadata": {},
   "outputs": [],
   "source": []
  }
 ],
 "metadata": {
  "kernelspec": {
   "display_name": "Python 3",
   "language": "python",
   "name": "python3"
  },
  "language_info": {
   "codemirror_mode": {
    "name": "ipython",
    "version": 3
   },
   "file_extension": ".py",
   "mimetype": "text/x-python",
   "name": "python",
   "nbconvert_exporter": "python",
   "pygments_lexer": "ipython3",
   "version": "3.8.8"
  }
 },
 "nbformat": 4,
 "nbformat_minor": 5
}
